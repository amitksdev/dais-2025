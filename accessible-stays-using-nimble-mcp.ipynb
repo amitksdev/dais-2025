{
 "cells": [
  {
   "cell_type": "markdown",
   "metadata": {
    "application/vnd.databricks.v1+cell": {
     "cellMetadata": {
      "byteLimit": 2048000,
      "rowLimit": 10000
     },
     "inputWidgets": {},
     "nuid": "12fc1ff6-cc99-4d37-9eea-c19c57d8d52d",
     "showTitle": false,
     "tableResultSettingsMap": {},
     "title": ""
    }
   },
   "source": [
    "### Using MCP to get accessible stay options based on multiple data sources"
   ]
  },
  {
   "cell_type": "code",
   "execution_count": 0,
   "metadata": {
    "application/vnd.databricks.v1+cell": {
     "cellMetadata": {
      "byteLimit": 2048000,
      "rowLimit": 10000
     },
     "inputWidgets": {},
     "nuid": "61ce60c1-bec6-4902-8b5e-7021de7c5c76",
     "showTitle": false,
     "tableResultSettingsMap": {},
     "title": ""
    }
   },
   "outputs": [
    {
     "output_type": "stream",
     "name": "stdout",
     "output_type": "stream",
     "text": [
      "\u001B[43mNote: you may need to restart the kernel using %restart_python or dbutils.library.restartPython() to use updated packages.\u001B[0m\n"
     ]
    }
   ],
   "source": [
    "%pip install -U -qqq llama-index llama-index-llms-databricks mlflow python-dotenv llama-index-tools-mcp\n",
    "%restart_python"
   ]
  },
  {
   "cell_type": "markdown",
   "metadata": {
    "application/vnd.databricks.v1+cell": {
     "cellMetadata": {
      "byteLimit": 2048000,
      "rowLimit": 10000
     },
     "inputWidgets": {},
     "nuid": "93aa95a0-503e-4ded-963c-ec005637ddc8",
     "showTitle": false,
     "tableResultSettingsMap": {},
     "title": ""
    }
   },
   "source": [
    "We will use the LlamaIndex `BasicMCPClient` to get the list of tools from the MCP server and create a `McpToolSpec` object. We can then convert this to a list of tools using the `to_tool_list_async` method."
   ]
  },
  {
   "cell_type": "code",
   "execution_count": 0,
   "metadata": {
    "application/vnd.databricks.v1+cell": {
     "cellMetadata": {
      "byteLimit": 2048000,
      "rowLimit": 10000
     },
     "inputWidgets": {},
     "nuid": "39d30065-485b-43ab-a89b-e8e07f1137de",
     "showTitle": false,
     "tableResultSettingsMap": {},
     "title": ""
    }
   },
   "outputs": [],
   "source": [
    "import os\n",
    "os.environ[\"NIMBLE_API_KEY\"] = \"d7f132fad8064fa19163eb596ecfd3a2c39f675baa9449fea6e93ef4e179f72c\""
   ]
  },
  {
   "cell_type": "code",
   "execution_count": 0,
   "metadata": {
    "application/vnd.databricks.v1+cell": {
     "cellMetadata": {
      "byteLimit": 2048000,
      "rowLimit": 10000
     },
     "inputWidgets": {},
     "nuid": "ebaa07bf-2377-4f59-9331-222ade1593e1",
     "showTitle": false,
     "tableResultSettingsMap": {},
     "title": ""
    }
   },
   "outputs": [
    {
     "output_type": "stream",
     "name": "stderr",
     "output_type": "stream",
     "text": [
      "None of PyTorch, TensorFlow >= 2.0, or Flax have been found. Models won't be available and only tokenizers, configuration and file/data utilities can be used.\nUnexpected internal error when monkey patching `PreTrainedModel.from_pretrained`: \nPreTrainedModel requires the PyTorch library but it was not found in your environment. Checkout the instructions on the\ninstallation page: https://pytorch.org/get-started/locally/ and follow the ones that match your environment.\nPlease note that you may need to restart your runtime after installation.\n\nUnexpected internal error when monkey patching `Trainer.train`: \nTrainer requires the PyTorch library but it was not found in your environment. Checkout the instructions on the\ninstallation page: https://pytorch.org/get-started/locally/ and follow the ones that match your environment.\nPlease note that you may need to restart your runtime after installation.\n\n"
     ]
    }
   ],
   "source": [
    "from llama_index.llms.databricks import Databricks\n",
    "from databricks.sdk import WorkspaceClient\n",
    "import mlflow\n",
    "\n",
    "w = WorkspaceClient()\n",
    "\n",
    "tmp_token = w.tokens.create(comment=\"for model serving\", lifetime_seconds=1200).token_value\n",
    "\n",
    "llm = Databricks(\n",
    "    model=\"databricks-llama-4-maverick\",\n",
    "    api_key=tmp_token,\n",
    "    api_base=f\"{w.config.host}/serving-endpoints/\"\n",
    ")"
   ]
  },
  {
   "cell_type": "code",
   "execution_count": 0,
   "metadata": {
    "application/vnd.databricks.v1+cell": {
     "cellMetadata": {
      "byteLimit": 2048000,
      "rowLimit": 10000
     },
     "inputWidgets": {},
     "nuid": "9e8107a4-eb37-4e86-aca3-ccfab0883597",
     "showTitle": false,
     "tableResultSettingsMap": {},
     "title": ""
    }
   },
   "outputs": [
    {
     "output_type": "stream",
     "name": "stdout",
     "output_type": "stream",
     "text": [
      "Loaded 9 Nimble tools:\n- nimble_targeted_engines: \n    Fetch lists of available Nimble Web Agent templates for targeted data extraction.\n\n    Returns templates with: id, name, display_name, description, domain, entity_type (PDP/SERP).\n    Use the 'id' field as template_number in targeted_retrieval.\n    \n- nimble_targeted_retrieval: \n    Executes data extraction using Nimble Web Agent's pre-trained templates.\n\n    Leverages Nimble's intelligent extraction technology for accurate, structured data\n    from e-commerce sites, job boards, and other supported domains.\n\n    Args:\n        input: Format depends on template entity_type:\n            • SERP: Search query (e.g., \"wireless headphones\")  \n            • PDP: Product identifier - Amazon: ASIN only (\"B08N5WRWNW\"), \n            Best Buy: SKU, Target: TCIN, Walmart: Item ID, Others: product ID or path\n            • CLP: Category path or identifier\n            \n        template_number: Template ID from nimble_targeted_engines\n\n    Check template 'domain' and 'entity_type' from nimble_targeted_engines for correct format.\n\n    Returns:\n        Structured data specific to template type. HTML content auto-filtered.\n    \n- nimble_google_maps_search: \n    Perform a Google Maps search using Nimble's SERP\n\n    Args:\n        query: Search query for Google Maps\n        tool_reasoning: Optional reasoning about why this tool was selected\n        tool_description: Optional description of the tool's purpose\n\n    Returns:\n        dict: Dictionary containing structured place results:\n            - input_url: The URL used for the search\n            - num_results: Number of places found\n            - places: List of place objects with details from Google Maps\n    \n- nimble_google_maps_reviews: \n    Collect reviews for a specific place from Google Maps using Nimble's API.\n    Results include detailed review content and reviewer information.\n\n    Note: You can obtain a place_id by first using the nimble_google_maps_search tool,\n    which returns place_id values that can then be used with this tool.\n\n    Args:\n        place_id: Google Maps place ID to collect reviews for\n        sort_by: Sort reviews by \"relevance\" (default), \"newest\", or \"highest_rating\"\n        tool_reasoning: Optional reasoning about why this tool was selected\n        tool_description: Optional description of the tool's purpose\n\n    Returns:\n        dict: Dictionary containing structured review results:\n            - place_id: The place ID used for the query\n            - place_details: Basic details about the place\n            - num_reviews: Number of reviews retrieved\n            - reviews: List of review objects with details from Google Maps\n    \n- nimble_google_maps_place: \n    Retrieve detailed, dynamic information about a place from Google Maps using Nimble's API.\n\n    The returned result is a flexible dictionary containing all available data for the requested place.\n    This can include core details such as name, address, location, contact info, ratings, categories, and links,\n    as well as rich metadata like business descriptions, amenities, accessibility features, opening hours, photos,\n    crowd and service information, and more.\n\n    Note: You can obtain a place_id by first using the nimble_google_maps_search tool,\n    which returns place_id values that can then be used with this tool.\n\n    Args:\n        place_id: Google Maps place ID to retrieve information for\n        tool_reasoning: Optional reasoning about why this tool was selected\n        tool_description: Optional description of the tool's purpose\n\n    Returns:\n        dict: A dictionary with all available information about a specific place.\n    \n- nimble_effortless_pipelines: \n    Get Nimble Effortless Pipeline definitions. \n    If item_id is provided, gets a specific definition.\n    Otherwise, gets all pipeline definitions.\n\n    Args:\n        item_id: Optional ID of specific pipeline definition to retrieve\n        tool_reasoning: Optional reasoning for using this tool\n        tool_description: Optional description of the tool usage\n\n    Returns:\n        dict: Pipeline definitions data from Bakery API\n    \n- nimble_effortless_templates: \n    Get Nimble Effortless Pipeline. \n    If item_id is provided, gets a specific template.\n    Otherwise, gets all pipeline templates.\n\n    Args:\n        item_id: Optional ID of specific pipeline template to retrieve\n        tool_reasoning: Optional reasoning for using this tool\n        tool_description: Optional description of the tool usage\n\n    Returns:\n        dict: Pipeline templates data from Bakery API\n    \n- nimble_deep_web_search: \n    Perform a web search using Nimble's Search API.\n\n    This MCP tool allows retrieving search results from various search engines (Google, Google SGE, Bing, Yandex)\n    through the Nimble API. Results are returned with page content and metadata.\n\n    Args:\n        query: The search query to execute.\n        num_results: Number of search results to return. Default is 3.\n        search_engine: The search engine to use. Options are \"google_search\" (default),\n                      \"google_sge\", \"bing_search\", \"yandex_search\".\n        parsing_type: The parsing type for content. Options are \"plain_text\" (default),\n                     \"markdown\", \"simplified_html\".\n    Returns:\n        dict:\n            - results (list):\n                - page_content (str)\n                - metadata (dict):\n                    - title (str)\n                    - snippet (str)\n                    - url (str)\n                    - position (int)\n                    - entity_type (str)\n    \n- nimble_extract: \n    Extract content from a specific URL using Nimble's Extract API.\n\n    This MCP tool allows extracting and parsing content from a single URL\n    through the Nimble API. Returns the same format as nimble_deep_web_search but for one URL.\n\n    Args:\n        url: The URL to extract content from.\n        parsing_type: The parsing type for content. Options are \"plain_text\" (default),\n                     \"markdown\", \"simplified_html\".\n        tool_reasoning: Optional reasoning about why this tool was selected.\n        tool_description: Optional description of the tool's purpose.\n\n    Returns:\n        dict:\n            - page_content (str)\n            - metadata (dict):\n                - title (str)\n                - snippet (str)\n                - url (str)\n                - position (int)\n                - entity_type (str)\n    \n"
     ]
    },
    {
     "output_type": "execute_result",
     "data": {
      "text/plain": [
       "[<llama_index.core.tools.function_tool.FunctionTool at 0x7efd7efe7090>,\n",
       " <llama_index.core.tools.function_tool.FunctionTool at 0x7efd7e61ff50>,\n",
       " <llama_index.core.tools.function_tool.FunctionTool at 0x7efd7efe6e50>,\n",
       " <llama_index.core.tools.function_tool.FunctionTool at 0x7efd7e637090>,\n",
       " <llama_index.core.tools.function_tool.FunctionTool at 0x7efd7f00dc90>,\n",
       " <llama_index.core.tools.function_tool.FunctionTool at 0x7efd7f00fa10>,\n",
       " <llama_index.core.tools.function_tool.FunctionTool at 0x7efd7e640710>,\n",
       " <llama_index.core.tools.function_tool.FunctionTool at 0x7efd7e641dd0>,\n",
       " <llama_index.core.tools.function_tool.FunctionTool at 0x7efd7e641e90>]"
      ]
     },
     "execution_count": 3,
     "metadata": {},
     "output_type": "execute_result"
    }
   ],
   "source": [
    "from dotenv import load_dotenv\n",
    "from llama_index.tools.mcp import BasicMCPClient, McpToolSpec\n",
    "import os\n",
    "\n",
    "load_dotenv()\n",
    "\n",
    "async def setup_nimble_tools():\n",
    "    mcp_client = BasicMCPClient(\n",
    "        \"https://mcp.nimbleway.com/sse\",\n",
    "        headers={\"Authorization\": f\"Bearer {os.environ['NIMBLE_API_KEY']}\"}\n",
    "    )\n",
    "    \n",
    "    mcp_tool_spec = McpToolSpec(\n",
    "        client=mcp_client,\n",
    "        # Optional: filter to specific tools\n",
    "        # allowed_tools=[\"nimble_web_search\", \"nimble_google_maps_search\"]\n",
    "    )\n",
    "    \n",
    "    tools = await mcp_tool_spec.to_tool_list_async()\n",
    "    \n",
    "    print(f\"Loaded {len(tools)} Nimble tools:\")\n",
    "    for tool in tools:\n",
    "        print(f\"- {tool.metadata.name}: {tool.metadata.description}\")\n",
    "    \n",
    "    return tools\n",
    "\n",
    "# Get the tools\n",
    "nimble_tools = await setup_nimble_tools()\n",
    "nimble_tools"
   ]
  },
  {
   "cell_type": "markdown",
   "metadata": {
    "application/vnd.databricks.v1+cell": {
     "cellMetadata": {
      "byteLimit": 2048000,
      "rowLimit": 10000
     },
     "inputWidgets": {},
     "nuid": "c86ee862-9bce-4edc-ab6b-6951e796bac1",
     "showTitle": false,
     "tableResultSettingsMap": {},
     "title": ""
    }
   },
   "source": [
    "We will use the LlamaIndex `ReActAgent` to build our agent. We pass in the list of tools, the LLM, and a system prompt."
   ]
  },
  {
   "cell_type": "code",
   "execution_count": 0,
   "metadata": {
    "application/vnd.databricks.v1+cell": {
     "cellMetadata": {
      "byteLimit": 2048000,
      "rowLimit": 10000
     },
     "inputWidgets": {},
     "nuid": "cbaf7c4e-283e-4fa3-ac01-6dcc67e474d3",
     "showTitle": false,
     "tableResultSettingsMap": {},
     "title": ""
    }
   },
   "outputs": [],
   "source": [
    "from llama_index.core.agent.workflow import ReActAgent\n",
    "\n",
    "agent = ReActAgent(\n",
    "    tools=nimble_tools,\n",
    "    llm=llm,\n",
    "    system_prompt=\"\"\"You are a helpful research assistant with access to web scraping and data collection tools. \n",
    "    Always explain your answer in the final output and structure the output as a valid json array.\"\"\",\n",
    ")"
   ]
  },
  {
   "cell_type": "markdown",
   "metadata": {
    "application/vnd.databricks.v1+cell": {
     "cellMetadata": {
      "byteLimit": 2048000,
      "rowLimit": 10000
     },
     "inputWidgets": {},
     "nuid": "3577db94-6782-4dc8-92d6-0402771d2943",
     "showTitle": false,
     "tableResultSettingsMap": {},
     "title": ""
    }
   },
   "source": [
    "### Running the agent\n",
    "\n",
    "We can run the agent with `await agent.run()`, passing in a question.\n"
   ]
  },
  {
   "cell_type": "code",
   "execution_count": 0,
   "metadata": {
    "application/vnd.databricks.v1+cell": {
     "cellMetadata": {
      "byteLimit": 2048000,
      "rowLimit": 10000
     },
     "inputWidgets": {},
     "nuid": "58f0fc11-4221-4f11-a020-424ce6291516",
     "showTitle": false,
     "tableResultSettingsMap": {},
     "title": ""
    }
   },
   "outputs": [
    {
     "output_type": "display_data",
     "data": {
      "application/databricks.mlflow.trace": "\"tr-51170c945061461bb38e41fa6576eb55\"",
      "text/plain": [
       "Trace(request_id=tr-51170c945061461bb38e41fa6576eb55)"
      ]
     },
     "metadata": {},
     "output_type": "display_data"
    }
   ],
   "source": [
    "mlflow.llama_index.autolog()\n",
    "# await agent.run(\"What are the most accessible stay options for a vacation in Chicago?\")\n",
    "response = await agent.run(\"What are the most accessible stay options for a vacation in Chicago that allow service dog. Also list the Google review ratings of each of the recommended hotels? Structure the response in json such that it can be converted to pandas dataframe. Be concise. Just respond with a valid json response\")"
   ]
  },
  {
   "cell_type": "code",
   "execution_count": 0,
   "metadata": {
    "application/vnd.databricks.v1+cell": {
     "cellMetadata": {
      "byteLimit": 2048000,
      "rowLimit": 10000
     },
     "inputWidgets": {},
     "nuid": "27f40ccc-ea70-4952-bcd6-03057dbb7c5d",
     "showTitle": false,
     "tableResultSettingsMap": {},
     "title": ""
    }
   },
   "outputs": [],
   "source": [
    "blocks = response.response.blocks\n",
    "response.final_response_text = \"\\n\".join(block.text for block in blocks if hasattr(block, \"text\"))\n"
   ]
  },
  {
   "cell_type": "code",
   "execution_count": 0,
   "metadata": {
    "application/vnd.databricks.v1+cell": {
     "cellMetadata": {
      "byteLimit": 2048000,
      "rowLimit": 10000
     },
     "inputWidgets": {},
     "nuid": "f787531f-d855-4892-bdb8-525c95b971ad",
     "showTitle": false,
     "tableResultSettingsMap": {},
     "title": ""
    }
   },
   "outputs": [
    {
     "output_type": "stream",
     "name": "stdout",
     "output_type": "stream",
     "text": [
      "                             hotel_name  ... num_reviews\n0          Hotel Lincoln - JDV by Hyatt  ...        2382\n1                  The Guesthouse Hotel  ...         370\n2  Hotel Saint Clair - Magnificent Mile  ...        1430\n3                        Claridge House  ...         992\n4         The Villa Toscana Guest House  ...         142\n5     Hyatt Place Chicago / Wicker Park  ...         399\n\n[6 rows x 4 columns]\n"
     ]
    }
   ],
   "source": [
    "\n",
    "### ✅ Step-by-Step Code\n",
    "\n",
    "import json\n",
    "import pandas as pd\n",
    "\n",
    "# 1. Get the raw text from the block\n",
    "text_block = response.response.blocks[0].text\n",
    "\n",
    "# 2. Strip the code block wrapper (```json\\n ... \\n```)\n",
    "clean_json_str = text_block.strip(\"`\").strip()\n",
    "if clean_json_str.startswith(\"json\"):\n",
    "    clean_json_str = clean_json_str[4:]  # remove the 'json\\n' prefix\n",
    "\n",
    "# 3. Parse JSON\n",
    "try:\n",
    "    data = json.loads(clean_json_str)\n",
    "except json.JSONDecodeError as e:\n",
    "    print(\"JSON decode error:\", e)\n",
    "    data = []\n",
    "\n",
    "# 4. Convert to DataFrame\n",
    "df = pd.DataFrame(data)\n",
    "print(df)\n"
   ]
  },
  {
   "cell_type": "code",
   "execution_count": 0,
   "metadata": {
    "application/vnd.databricks.v1+cell": {
     "cellMetadata": {
      "byteLimit": 2048000,
      "rowLimit": 10000
     },
     "inputWidgets": {},
     "nuid": "47f3956f-068e-465d-b3c2-a5ec86844b24",
     "showTitle": false,
     "tableResultSettingsMap": {},
     "title": ""
    }
   },
   "outputs": [
    {
     "output_type": "execute_result",
     "data": {
      "text/html": [
       "<div>\n",
       "<style scoped>\n",
       "    .dataframe tbody tr th:only-of-type {\n",
       "        vertical-align: middle;\n",
       "    }\n",
       "\n",
       "    .dataframe tbody tr th {\n",
       "        vertical-align: top;\n",
       "    }\n",
       "\n",
       "    .dataframe thead th {\n",
       "        text-align: right;\n",
       "    }\n",
       "</style>\n",
       "<table border=\"1\" class=\"dataframe\">\n",
       "  <thead>\n",
       "    <tr style=\"text-align: right;\">\n",
       "      <th></th>\n",
       "      <th>hotel_name</th>\n",
       "      <th>address</th>\n",
       "      <th>rating</th>\n",
       "      <th>num_reviews</th>\n",
       "    </tr>\n",
       "  </thead>\n",
       "  <tbody>\n",
       "    <tr>\n",
       "      <th>0</th>\n",
       "      <td>Hotel Lincoln - JDV by Hyatt</td>\n",
       "      <td>1816 N Clark St, Chicago, IL 60614</td>\n",
       "      <td>4.3</td>\n",
       "      <td>2382</td>\n",
       "    </tr>\n",
       "    <tr>\n",
       "      <th>1</th>\n",
       "      <td>The Guesthouse Hotel</td>\n",
       "      <td>4872 N Clark St, Chicago, IL 60640</td>\n",
       "      <td>4.8</td>\n",
       "      <td>370</td>\n",
       "    </tr>\n",
       "    <tr>\n",
       "      <th>2</th>\n",
       "      <td>Hotel Saint Clair - Magnificent Mile</td>\n",
       "      <td>162 E Ontario St, Chicago, IL 60611</td>\n",
       "      <td>3.5</td>\n",
       "      <td>1430</td>\n",
       "    </tr>\n",
       "    <tr>\n",
       "      <th>3</th>\n",
       "      <td>Claridge House</td>\n",
       "      <td>1244 N Dearborn Pkwy, Chicago, IL 60610</td>\n",
       "      <td>4.0</td>\n",
       "      <td>992</td>\n",
       "    </tr>\n",
       "    <tr>\n",
       "      <th>4</th>\n",
       "      <td>The Villa Toscana Guest House</td>\n",
       "      <td>3447 N Halsted St, Chicago, IL 60657</td>\n",
       "      <td>4.5</td>\n",
       "      <td>142</td>\n",
       "    </tr>\n",
       "    <tr>\n",
       "      <th>5</th>\n",
       "      <td>Hyatt Place Chicago / Wicker Park</td>\n",
       "      <td>1551 W North Ave Ashland, Chicago, IL 60622</td>\n",
       "      <td>4.5</td>\n",
       "      <td>399</td>\n",
       "    </tr>\n",
       "  </tbody>\n",
       "</table>\n",
       "</div>"
      ],
      "text/plain": [
       "                             hotel_name  ... num_reviews\n",
       "0          Hotel Lincoln - JDV by Hyatt  ...        2382\n",
       "1                  The Guesthouse Hotel  ...         370\n",
       "2  Hotel Saint Clair - Magnificent Mile  ...        1430\n",
       "3                        Claridge House  ...         992\n",
       "4         The Villa Toscana Guest House  ...         142\n",
       "5     Hyatt Place Chicago / Wicker Park  ...         399\n",
       "\n",
       "[6 rows x 4 columns]"
      ]
     },
     "execution_count": 62,
     "metadata": {},
     "output_type": "execute_result"
    }
   ],
   "source": [
    "df"
   ]
  }
 ],
 "metadata": {
  "application/vnd.databricks.v1+notebook": {
   "computePreferences": null,
   "dashboards": [],
   "environmentMetadata": {
    "base_environment": "",
    "environment_version": "2"
   },
   "inputWidgetPreferences": null,
   "language": "python",
   "notebookMetadata": {
    "pythonIndentUnit": 4
   },
   "notebookName": "accessible-stays-using-nimble-mcp",
   "widgets": {}
  },
  "language_info": {
   "name": "python"
  }
 },
 "nbformat": 4,
 "nbformat_minor": 0
}