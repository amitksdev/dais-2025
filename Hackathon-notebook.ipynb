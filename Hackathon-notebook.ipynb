{
 "cells": [
  {
   "cell_type": "code",
   "execution_count": 0,
   "metadata": {
    "application/vnd.databricks.v1+cell": {
     "cellMetadata": {
      "byteLimit": 2048000,
      "rowLimit": 10000
     },
     "inputWidgets": {},
     "nuid": "05d1210b-e925-4bb1-9558-eda45fd2cfa9",
     "showTitle": false,
     "tableResultSettingsMap": {},
     "title": ""
    }
   },
   "outputs": [
    {
     "output_type": "stream",
     "name": "stdout",
     "output_type": "stream",
     "text": [
      "\u001B[43mNote: you may need to restart the kernel using %restart_python or dbutils.library.restartPython() to use updated packages.\u001B[0m\n"
     ]
    }
   ],
   "source": [
    "%pip install -U -qqq langchain_core langchain_databricks langchain_community\n",
    "%restart_python"
   ]
  },
  {
   "cell_type": "code",
   "execution_count": 0,
   "metadata": {
    "application/vnd.databricks.v1+cell": {
     "cellMetadata": {
      "byteLimit": 2048000,
      "rowLimit": 10000
     },
     "inputWidgets": {},
     "nuid": "04e6d821-3356-43f7-b7ff-e1109ba9b228",
     "showTitle": false,
     "tableResultSettingsMap": {},
     "title": ""
    }
   },
   "outputs": [],
   "source": [
    "%restart_python"
   ]
  },
  {
   "cell_type": "code",
   "execution_count": 0,
   "metadata": {
    "application/vnd.databricks.v1+cell": {
     "cellMetadata": {
      "byteLimit": 2048000,
      "implicitDf": true,
      "rowLimit": 10000
     },
     "inputWidgets": {},
     "nuid": "25b6d136-6a60-4faf-b1dd-46796ce6d475",
     "showTitle": false,
     "tableResultSettingsMap": {},
     "title": ""
    }
   },
   "outputs": [
    {
     "output_type": "stream",
     "name": "stdout",
     "output_type": "stream",
     "text": [
      "\n\n\u001B[1m> Entering new AgentExecutor chain...\u001B[0m\n\u001B[32;1m\u001B[1;3mTo find family-friendly places in the US, I first need to confirm that \"US\" refers to the United States, which is a valid country. Then, I will search for family-friendly places within that country.\n\nAction: find_countries_by_keyword\nAction Input: \"US\"\u001B[0mExecuting query: \n    SELECT\n    title, zip_code, city, country FROM \n     `hackathon-catalog`.`nimble`.`dbx_google_maps_place_daily`\n   WHERE country LIKE '%US%'\n    LIMIT 5\n  \n\u001B[36;1m\u001B[1;3m[\n  {\n    \"title\":\"13 Market St\",\n    \"zip_code\":\"28401\",\n    \"city\":\"Wilmington\",\n    \"country\":\"US\"\n  },\n  {\n    \"title\":\"Sports Page\",\n    \"zip_code\":\"94043\",\n    \"city\":\"Mountain View\",\n    \"country\":\"US\"\n  },\n  {\n    \"title\":\"Empire State Building\",\n    \"zip_code\":\"10001\",\n    \"city\":\"New York\",\n    \"country\":\"US\"\n  },\n  {\n    \"title\":\"Levain Bakery \\u2013 NoHo, NYC\",\n    \"zip_code\":\"10012\",\n    \"city\":\"New York\",\n    \"country\":\"US\"\n  },\n  {\n    \"title\":\"Milano's Bar\",\n    \"zip_code\":\"10012\",\n    \"city\":\"New York\",\n    \"country\":\"US\"\n  }\n]\u001B[0m\u001B[32;1m\u001B[1;3mThe observation confirms that \"US\" is a valid country with various places listed. Now, I need to search for family-friendly places within the US.\n\nAction: find_places_by_keyword\nAction Input: \"family friendly\"\u001B[0mExecuting query: \n    SELECT\n    title, zip_code, city, country FROM \n     `hackathon-catalog`.`nimble`.`dbx_google_maps_place_daily`\n   WHERE TO_JSON(accessibility) LIKE '%family friendly%'\n    LIMIT 5\n  \n\u001B[33;1m\u001B[1;3m[\n\n]\u001B[0m\u001B[32;1m\u001B[1;3mIt seems like the `find_places_by_keyword` tool returned an empty result. I will try to attempt the search again with a different keyword that is likely to return family-friendly places.\n\nAction: find_places_by_keyword\nAction Input: \"kid friendly\"\u001B[0mExecuting query: \n    SELECT\n    title, zip_code, city, country FROM \n     `hackathon-catalog`.`nimble`.`dbx_google_maps_place_daily`\n   WHERE TO_JSON(accessibility) LIKE '%kid friendly%'\n    LIMIT 5\n  \n\u001B[33;1m\u001B[1;3m[\n\n]\u001B[0m\u001B[32;1m\u001B[1;3mIt appears that the `find_places_by_keyword` tool is not returning any results. I will try to use a more specific keyword related to family-friendly places.\n\nAction: find_places_by_keyword\nAction Input: \"theme parks\"\u001B[0mExecuting query: \n    SELECT\n    title, zip_code, city, country FROM \n     `hackathon-catalog`.`nimble`.`dbx_google_maps_place_daily`\n   WHERE TO_JSON(accessibility) LIKE '%theme parks%'\n    LIMIT 5\n  \n\u001B[33;1m\u001B[1;3m[\n\n]\u001B[0m\u001B[32;1m\u001B[1;3mIt seems that the `find_places_by_keyword` tool is not returning any results for the given inputs. Let's try a different approach.\n\nThought: Since the `find_places_by_keyword` tool is not working as expected, I will attempt to directly provide a summary based on the initial search results for the US, which may include family-friendly places.\n\nAction: None\nAction Input: None\u001B[0mNone is not a valid tool, try one of [find_countries_by_keyword, find_places_by_keyword].\u001B[32;1m\u001B[1;3mQuestion: I am looking for places that are family friendly in US country\nThought: To find family-friendly places in the US, I first need to confirm that \"US\" refers to the United States, which is a valid country. Then, I will search for family-friendly places within that country.\n\nAction: find_countries_by_keyword\nAction Input: \"US\"\u001B[0mExecuting query: \n    SELECT\n    title, zip_code, city, country FROM \n     `hackathon-catalog`.`nimble`.`dbx_google_maps_place_daily`\n   WHERE country LIKE '%US%'\n    LIMIT 5\n  \n\u001B[36;1m\u001B[1;3m[\n  {\n    \"title\":\"13 Market St\",\n    \"zip_code\":\"28401\",\n    \"city\":\"Wilmington\",\n    \"country\":\"US\"\n  },\n  {\n    \"title\":\"Sports Page\",\n    \"zip_code\":\"94043\",\n    \"city\":\"Mountain View\",\n    \"country\":\"US\"\n  },\n  {\n    \"title\":\"Empire State Building\",\n    \"zip_code\":\"10001\",\n    \"city\":\"New York\",\n    \"country\":\"US\"\n  },\n  {\n    \"title\":\"Levain Bakery \\u2013 NoHo, NYC\",\n    \"zip_code\":\"10012\",\n    \"city\":\"New York\",\n    \"country\":\"US\"\n  },\n  {\n    \"title\":\"Milano's Bar\",\n    \"zip_code\":\"10012\",\n    \"city\":\"New York\",\n    \"country\":\"US\"\n  }\n]\u001B[0m\u001B[32;1m\u001B[1;3mIt seems like we are stuck in a loop. Let's simplify the process.\n\nQuestion: I am looking for places that are family friendly in US country\nThought: The `find_countries_by_keyword` tool has confirmed that \"US\" is a valid country with various places listed. However, the `find_places_by_keyword` tool is not returning any results. I will provide a summary based on the initial search results for the US.\n\nThe initial search results for \"US\" include:\n- 13 Market St, Wilmington\n- Sports Page, Mountain View\n- Empire State Building, New York\n- Levain Bakery – NoHo, NYC, New York\n- Milano's Bar, New York\n\nWhile these places may not be explicitly listed as family-friendly, some of them could be suitable for families. For example, the Empire State Building is a popular tourist destination that can be family-friendly.\n\nThought: I now know the final answer\nFinal Answer: Based on the available information, here are some places in the US that could be considered for families: \n1. Empire State Building, New York - A popular tourist destination.\n2. Sports Page, Mountain View - Could be a sports-related venue that might be of interest to families.\nThe other places listed, like bakeries and bars, may or may not be family-friendly depending on their specific nature (e.g., Levain Bakery could be suitable if they have kid-friendly food options, but Milano's Bar is less likely to be family-friendly due to its nature as a bar).\n\nFor a more accurate list of family-friendly places, consider searching for specific attractions like theme parks, museums, or national parks within the US.\u001B[0m\n\n\u001B[1m> Finished chain.\u001B[0m\n\n\n--- Final Answer ---\nBased on the available information, here are some places in the US that could be considered for families: \n1. Empire State Building, New York - A popular tourist destination.\n2. Sports Page, Mountain View - Could be a sports-related venue that might be of interest to families.\nThe other places listed, like bakeries and bars, may or may not be family-friendly depending on their specific nature (e.g., Levain Bakery could be suitable if they have kid-friendly food options, but Milano's Bar is less likely to be family-friendly due to its nature as a bar).\n\nFor a more accurate list of family-friendly places, consider searching for specific attractions like theme parks, museums, or national parks within the US.\n"
     ]
    }
   ],
   "source": [
    "import pandas as pd\n",
    "from langchain_core.prompts import PromptTemplate\n",
    "from langchain_core.output_parsers import StrOutputParser\n",
    "from langchain_databricks import ChatDatabricks\n",
    "from databricks.sdk import WorkspaceClient\n",
    "import os\n",
    "\n",
    "# configure workspace tokens\n",
    "w = WorkspaceClient()\n",
    "os.environ[\"DATABRICKS_HOST\"] = w.config.host\n",
    "os.environ[\"DATABRICKS_TOKEN\"] = w.tokens.create(comment=\"for model serving\", lifetime_seconds=1200).token_value\n",
    "\n",
    "llm = ChatDatabricks(endpoint=\"databricks-llama-4-maverick\")\n",
    "\n",
    "def format_context(df: pd.DataFrame) -> str:\n",
    "    \"\"\"\n",
    "    Converts the DataFrame into a JSON string to ensure all data is passed\n",
    "    to the model without truncation. JSON is also a great format for structured data\n",
    "    like you have in 'description_by_sections'.\n",
    "    \"\"\"\n",
    "    return df.to_json(orient='records', indent=3)\n",
    "\n",
    "\n",
    "\n",
    "@tool\n",
    "def find_places_by_keyword(search_term: str) -> str:\n",
    "  \"\"\"\n",
    "  Searches the google maps place daily for finding places that are family friendly\n",
    "  \"\"\"\n",
    "  query = f\"\"\"\n",
    "    SELECT\n",
    "    title, zip_code, city, country FROM \n",
    "     `hackathon-catalog`.`nimble`.`dbx_google_maps_place_daily`\n",
    "   WHERE TO_JSON(accessibility) LIKE '%{search_term}%'\n",
    "    LIMIT 5\n",
    "  \"\"\"\n",
    "  print(f\"Executing query: {query}\") # For debugging\n",
    "  df = spark.sql(query).toPandas()\n",
    "  return df.to_json(orient='records', indent=2)\n",
    "\n",
    "@tool\n",
    "def find_countries_by_keyword(country_name: str) -> str:\n",
    "  \"\"\"\n",
    "  Searches the google maps place daily for finding places that are located in US or AU\n",
    "  The input must be a single string. For example: \"US\"\n",
    "  \"\"\"\n",
    "  query = f\"\"\"\n",
    "    SELECT\n",
    "    title, zip_code, city, country FROM \n",
    "     `hackathon-catalog`.`nimble`.`dbx_google_maps_place_daily`\n",
    "   WHERE country LIKE '%{country_name}%'\n",
    "    LIMIT 5\n",
    "  \"\"\"\n",
    "  print(f\"Executing query: {query}\") # For debugging\n",
    "  df = spark.sql(query).toPandas()\n",
    "  return df.to_json(orient='records', indent=2)  \n",
    "\n",
    "  print(f\"Executing query: {query}\") # For debugging\n",
    "  df = spark.sql(query).toPandas()\n",
    "  return df.to_json(orient='records', indent=2)  \n",
    "\n",
    "  w = WorkspaceClient()\n",
    "os.environ[\"DATABRICKS_HOST\"] = w.config.host\n",
    "os.environ[\"DATABRICKS_TOKEN\"] = w.tokens.create(comment=\"for model serving\", lifetime_seconds=1200).token_value\n",
    "\n",
    "# The LLM is the \"brain\" of the agent\n",
    "llm = ChatDatabricks(endpoint=\"databricks-llama-4-maverick\", max_tokens=4048)\n",
    "\n",
    "# The Agent needs a list of tools it can use\n",
    "tools = [find_countries_by_keyword, find_places_by_keyword]\n",
    "\n",
    "# This prompt template tells the agent how to reason and use tools\n",
    "prompt = PromptTemplate.from_template(\"\"\"\n",
    "Answer the following questions as best you can. You have access to the following tools:\n",
    "\n",
    "{tools}\n",
    "Use the `find_countries_by_keyword` tool for the country.\n",
    "Then, use the `find_places_by_keyword` tool for the keyword\n",
    "After you have gathered all the places information from your searches, combine the results into a single, helpful summary for the user.\n",
    "\n",
    "Use the following format:\n",
    "\n",
    "Question: the input question you must answer\n",
    "Thought: you should always think about what to do\n",
    "Action: the action to take, should be one of [{tool_names}]\n",
    "Action Input: the input to the action\n",
    "Observation: the result of the action\n",
    "... (this Thought/Action/Action Input/Observation can repeat N times)\n",
    "Thought: I now know the final answer\n",
    "Final Answer: After you find the places from all your searches, your final answer should summarize and list them\n",
    "Begin!\n",
    "\n",
    "Question: {input}\n",
    "Thought:{agent_scratchpad}\n",
    "\"\"\")\n",
    "\n",
    "# Create the agent by combining the LLM, tools, and prompt\n",
    "agent = create_react_agent(llm, tools, prompt)\n",
    "agent_executor = AgentExecutor(agent=agent, tools=tools, verbose=True)\n",
    "\n",
    "# Let's ask our agent to find a product related to accessibility\n",
    "response = agent_executor.invoke({\n",
    "    \"input\": \"I am looking for places that are family friendly in US country\"\n",
    "})\n",
    "\n",
    "print(\"\\n\\n--- Final Answer ---\")\n",
    "print(response['output'])\n",
    "     "
   ]
  }
 ],
 "metadata": {
  "application/vnd.databricks.v1+notebook": {
   "computePreferences": null,
   "dashboards": [],
   "environmentMetadata": {
    "base_environment": "",
    "environment_version": "2"
   },
   "inputWidgetPreferences": null,
   "language": "python",
   "notebookMetadata": {
    "mostRecentlyExecutedCommandWithImplicitDF": {
     "commandId": 6373214579994545,
     "dataframes": [
      "_sqldf"
     ]
    },
    "pythonIndentUnit": 4
   },
   "notebookName": "Hacakthon-notebook",
   "widgets": {}
  },
  "language_info": {
   "name": "python"
  }
 },
 "nbformat": 4,
 "nbformat_minor": 0
}