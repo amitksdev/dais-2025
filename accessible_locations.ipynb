{
 "cells": [
  {
   "cell_type": "code",
   "execution_count": 0,
   "metadata": {
    "application/vnd.databricks.v1+cell": {
     "cellMetadata": {
      "byteLimit": 2048000,
      "rowLimit": 10000
     },
     "inputWidgets": {},
     "nuid": "73fd0194-eb45-481e-9e31-4a6763c49bfd",
     "showTitle": false,
     "tableResultSettingsMap": {},
     "title": ""
    }
   },
   "outputs": [
    {
     "output_type": "stream",
     "name": "stdout",
     "output_type": "stream",
     "text": [
      "Collecting databricks-langchain\n  Downloading databricks_langchain-0.5.1-py3-none-any.whl.metadata (2.7 kB)\nCollecting langgraph\n  Downloading langgraph-0.4.8-py3-none-any.whl.metadata (6.8 kB)\nCollecting langchain\n  Downloading langchain-0.3.25-py3-none-any.whl.metadata (7.8 kB)\nCollecting mlflow\n  Downloading mlflow-2.22.1-py3-none-any.whl.metadata (30 kB)\nCollecting python-dotenv\n  Downloading python_dotenv-1.1.0-py3-none-any.whl.metadata (24 kB)\nCollecting databricks-ai-bridge>=0.4.2 (from databricks-langchain)\n  Downloading databricks_ai_bridge-0.5.1-py3-none-any.whl.metadata (6.2 kB)\nCollecting databricks-connect>=16.1.1 (from databricks-langchain)\n  Downloading databricks_connect-16.1.5-py2.py3-none-any.whl.metadata (2.6 kB)\nCollecting databricks-vectorsearch>=0.50 (from databricks-langchain)\n  Downloading databricks_vectorsearch-0.56-py3-none-any.whl.metadata (2.8 kB)\nCollecting pydantic>2.10.0 (from databricks-langchain)\n  Downloading pydantic-2.11.5-py3-none-any.whl.metadata (67 kB)\nCollecting unitycatalog-langchain>=0.2.0 (from unitycatalog-langchain[databricks]>=0.2.0->databricks-langchain)\n  Downloading unitycatalog_langchain-0.2.0-py3-none-any.whl.metadata (6.5 kB)\nCollecting langchain-core>=0.1 (from langgraph)\n  Downloading langchain_core-0.3.64-py3-none-any.whl.metadata (5.8 kB)\nCollecting langgraph-checkpoint>=2.0.26 (from langgraph)\n  Downloading langgraph_checkpoint-2.0.26-py3-none-any.whl.metadata (4.6 kB)\nCollecting langgraph-prebuilt>=0.2.0 (from langgraph)\n  Downloading langgraph_prebuilt-0.2.2-py3-none-any.whl.metadata (4.5 kB)\nCollecting langgraph-sdk>=0.1.42 (from langgraph)\n  Downloading langgraph_sdk-0.1.70-py3-none-any.whl.metadata (1.5 kB)\nCollecting xxhash>=3.5.0 (from langgraph)\n  Downloading xxhash-3.5.0-cp311-cp311-manylinux_2_17_x86_64.manylinux2014_x86_64.whl.metadata (12 kB)\nCollecting langchain-text-splitters<1.0.0,>=0.3.8 (from langchain)\n  Downloading langchain_text_splitters-0.3.8-py3-none-any.whl.metadata (1.9 kB)\nCollecting langsmith<0.4,>=0.1.17 (from langchain)\n  Downloading langsmith-0.3.45-py3-none-any.whl.metadata (15 kB)\nCollecting SQLAlchemy<3,>=1.4 (from langchain)\n  Downloading sqlalchemy-2.0.41-cp311-cp311-manylinux_2_17_x86_64.manylinux2014_x86_64.whl.metadata (9.6 kB)\nRequirement already satisfied: requests<3,>=2 in /databricks/python3/lib/python3.11/site-packages (from langchain) (2.31.0)\nRequirement already satisfied: PyYAML>=5.3 in /databricks/python3/lib/python3.11/site-packages (from langchain) (6.0)\nCollecting mlflow-skinny==2.22.1 (from mlflow)\n  Downloading mlflow_skinny-2.22.1-py3-none-any.whl.metadata (31 kB)\nCollecting Flask<4 (from mlflow)\n  Downloading flask-3.1.1-py3-none-any.whl.metadata (3.0 kB)\nCollecting Jinja2<4,>=2.11 (from mlflow)\n  Downloading jinja2-3.1.6-py3-none-any.whl.metadata (2.9 kB)\nCollecting alembic!=1.10.0,<2 (from mlflow)\n  Downloading alembic-1.16.1-py3-none-any.whl.metadata (7.3 kB)\nCollecting docker<8,>=4.0.0 (from mlflow)\n  Downloading docker-7.1.0-py3-none-any.whl.metadata (3.8 kB)\nCollecting graphene<4 (from mlflow)\n  Downloading graphene-3.4.3-py2.py3-none-any.whl.metadata (6.9 kB)\nCollecting gunicorn<24 (from mlflow)\n  Downloading gunicorn-23.0.0-py3-none-any.whl.metadata (4.4 kB)\nCollecting markdown<4,>=3.3 (from mlflow)\n  Downloading markdown-3.8-py3-none-any.whl.metadata (5.1 kB)\nRequirement already satisfied: matplotlib<4 in /databricks/python3/lib/python3.11/site-packages (from mlflow) (3.7.2)\nRequirement already satisfied: numpy<3 in /databricks/python3/lib/python3.11/site-packages (from mlflow) (1.23.5)\nRequirement already satisfied: pandas!=2.3.0,<3 in /databricks/python3/lib/python3.11/site-packages (from mlflow) (1.5.3)\nRequirement already satisfied: pyarrow<20,>=4.0.0 in /databricks/python3/lib/python3.11/site-packages (from mlflow) (14.0.1)\nRequirement already satisfied: scikit-learn<2 in /databricks/python3/lib/python3.11/site-packages (from mlflow) (1.3.0)\nRequirement already satisfied: scipy<2 in /databricks/python3/lib/python3.11/site-packages (from mlflow) (1.11.1)\nRequirement already satisfied: cachetools<6,>=5.0.0 in /databricks/python3/lib/python3.11/site-packages (from mlflow-skinny==2.22.1->mlflow) (5.5.0)\nRequirement already satisfied: click<9,>=7.0 in /databricks/python3/lib/python3.11/site-packages (from mlflow-skinny==2.22.1->mlflow) (8.0.4)\nRequirement already satisfied: cloudpickle<4 in /databricks/python3/lib/python3.11/site-packages (from mlflow-skinny==2.22.1->mlflow) (3.0.0)\nRequirement already satisfied: databricks-sdk<1,>=0.20.0 in /databricks/python3/lib/python3.11/site-packages (from mlflow-skinny==2.22.1->mlflow) (0.40.0)\nCollecting fastapi<1 (from mlflow-skinny==2.22.1->mlflow)\n  Downloading fastapi-0.115.12-py3-none-any.whl.metadata (27 kB)\nRequirement already satisfied: gitpython<4,>=3.1.9 in /databricks/python3/lib/python3.11/site-packages (from mlflow-skinny==2.22.1->mlflow) (3.1.43)\nRequirement already satisfied: importlib_metadata!=4.7.0,<9,>=3.7.0 in /databricks/python3/lib/python3.11/site-packages (from mlflow-skinny==2.22.1->mlflow) (6.0.0)\nCollecting opentelemetry-api<3,>=1.9.0 (from mlflow-skinny==2.22.1->mlflow)\n  Downloading opentelemetry_api-1.34.0-py3-none-any.whl.metadata (1.5 kB)\nCollecting opentelemetry-sdk<3,>=1.9.0 (from mlflow-skinny==2.22.1->mlflow)\n  Downloading opentelemetry_sdk-1.34.0-py3-none-any.whl.metadata (1.6 kB)\nRequirement already satisfied: packaging<25 in /databricks/python3/lib/python3.11/site-packages (from mlflow-skinny==2.22.1->mlflow) (23.2)\nRequirement already satisfied: protobuf<7,>=3.12.0 in /databricks/python3/lib/python3.11/site-packages (from mlflow-skinny==2.22.1->mlflow) (5.29.3)\nRequirement already satisfied: sqlparse<1,>=0.4.0 in /databricks/python3/lib/python3.11/site-packages (from mlflow-skinny==2.22.1->mlflow) (0.5.1)\nRequirement already satisfied: typing-extensions<5,>=4.0.0 in /databricks/python3/lib/python3.11/site-packages (from mlflow-skinny==2.22.1->mlflow) (4.10.0)\nCollecting uvicorn<1 (from mlflow-skinny==2.22.1->mlflow)\n  Downloading uvicorn-0.34.3-py3-none-any.whl.metadata (6.5 kB)\nCollecting Mako (from alembic!=1.10.0,<2->mlflow)\n  Downloading mako-1.3.10-py3-none-any.whl.metadata (2.9 kB)\nCollecting typing-extensions<5,>=4.0.0 (from mlflow-skinny==2.22.1->mlflow)\n  Downloading typing_extensions-4.14.0-py3-none-any.whl.metadata (3.0 kB)\nCollecting databricks-sdk<1,>=0.20.0 (from mlflow-skinny==2.22.1->mlflow)\n  Downloading databricks_sdk-0.56.0-py3-none-any.whl.metadata (39 kB)\nCollecting tabulate>=0.9.0 (from databricks-ai-bridge>=0.4.2->databricks-langchain)\n  Downloading tabulate-0.9.0-py3-none-any.whl.metadata (34 kB)\nCollecting tiktoken>=0.8.0 (from databricks-ai-bridge>=0.4.2->databricks-langchain)\n  Downloading tiktoken-0.9.0-cp311-cp311-manylinux_2_17_x86_64.manylinux2014_x86_64.whl.metadata (6.7 kB)\nRequirement already satisfied: googleapis-common-protos>=1.56.4 in /databricks/python3/lib/python3.11/site-packages (from databricks-connect>=16.1.1->databricks-langchain) (1.65.0)\nRequirement already satisfied: grpcio-status>=1.59.3 in /databricks/python3/lib/python3.11/site-packages (from databricks-connect>=16.1.1->databricks-langchain) (1.69.0)\nRequirement already satisfied: grpcio>=1.59.3 in /databricks/python3/lib/python3.11/site-packages (from databricks-connect>=16.1.1->databricks-langchain) (1.69.0)\nRequirement already satisfied: py4j==0.10.9.7 in /databricks/python3/lib/python3.11/site-packages (from databricks-connect>=16.1.1->databricks-langchain) (0.10.9.7)\nRequirement already satisfied: setuptools>=68.0.0 in /databricks/python3/lib/python3.11/site-packages (from databricks-connect>=16.1.1->databricks-langchain) (75.1.0)\nRequirement already satisfied: six in /usr/lib/python3/dist-packages (from databricks-connect>=16.1.1->databricks-langchain) (1.16.0)\nCollecting deprecation>=2 (from databricks-vectorsearch>=0.50->databricks-langchain)\n  Downloading deprecation-2.1.0-py2.py3-none-any.whl.metadata (4.6 kB)\nRequirement already satisfied: urllib3>=1.26.0 in /databricks/python3/lib/python3.11/site-packages (from docker<8,>=4.0.0->mlflow) (1.26.16)\nCollecting blinker>=1.9.0 (from Flask<4->mlflow)\n  Downloading blinker-1.9.0-py3-none-any.whl.metadata (1.6 kB)\nCollecting click<9,>=7.0 (from mlflow-skinny==2.22.1->mlflow)\n  Downloading click-8.2.1-py3-none-any.whl.metadata (2.5 kB)\nCollecting itsdangerous>=2.2.0 (from Flask<4->mlflow)\n  Downloading itsdangerous-2.2.0-py3-none-any.whl.metadata (1.9 kB)\nCollecting markupsafe>=2.1.1 (from Flask<4->mlflow)\n  Downloading MarkupSafe-3.0.2-cp311-cp311-manylinux_2_17_x86_64.manylinux2014_x86_64.whl.metadata (4.0 kB)\nCollecting werkzeug>=3.1.0 (from Flask<4->mlflow)\n  Downloading werkzeug-3.1.3-py3-none-any.whl.metadata (3.7 kB)\nCollecting graphql-core<3.3,>=3.1 (from graphene<4->mlflow)\n  Downloading graphql_core-3.2.6-py3-none-any.whl.metadata (11 kB)\nCollecting graphql-relay<3.3,>=3.1 (from graphene<4->mlflow)\n  Downloading graphql_relay-3.2.0-py3-none-any.whl.metadata (12 kB)\nRequirement already satisfied: python-dateutil<3,>=2.7.0 in /databricks/python3/lib/python3.11/site-packages (from graphene<4->mlflow) (2.8.2)\nRequirement already satisfied: tenacity!=8.4.0,<10.0.0,>=8.1.0 in /databricks/python3/lib/python3.11/site-packages (from langchain-core>=0.1->langgraph) (8.2.2)\nCollecting jsonpatch<2.0,>=1.33 (from langchain-core>=0.1->langgraph)\n  Downloading jsonpatch-1.33-py2.py3-none-any.whl.metadata (3.0 kB)\nCollecting ormsgpack<2.0.0,>=1.8.0 (from langgraph-checkpoint>=2.0.26->langgraph)\n  Downloading ormsgpack-1.10.0-cp311-cp311-manylinux_2_17_x86_64.manylinux2014_x86_64.whl.metadata (43 kB)\nCollecting httpx>=0.25.2 (from langgraph-sdk>=0.1.42->langgraph)\n  Downloading httpx-0.28.1-py3-none-any.whl.metadata (7.1 kB)\nCollecting orjson>=3.10.1 (from langgraph-sdk>=0.1.42->langgraph)\n  Downloading orjson-3.10.18-cp311-cp311-manylinux_2_17_x86_64.manylinux2014_x86_64.whl.metadata (41 kB)\nCollecting requests-toolbelt<2.0.0,>=1.0.0 (from langsmith<0.4,>=0.1.17->langchain)\n  Downloading requests_toolbelt-1.0.0-py2.py3-none-any.whl.metadata (14 kB)\nRequirement already satisfied: zstandard<0.24.0,>=0.23.0 in /databricks/python3/lib/python3.11/site-packages (from langsmith<0.4,>=0.1.17->langchain) (0.23.0)\nRequirement already satisfied: contourpy>=1.0.1 in /databricks/python3/lib/python3.11/site-packages (from matplotlib<4->mlflow) (1.0.5)\nRequirement already satisfied: cycler>=0.10 in /databricks/python3/lib/python3.11/site-packages (from matplotlib<4->mlflow) (0.11.0)\nRequirement already satisfied: fonttools>=4.22.0 in /databricks/python3/lib/python3.11/site-packages (from matplotlib<4->mlflow) (4.25.0)\nRequirement already satisfied: kiwisolver>=1.0.1 in /databricks/python3/lib/python3.11/site-packages (from matplotlib<4->mlflow) (1.4.4)\nRequirement already satisfied: pillow>=6.2.0 in /databricks/python3/lib/python3.11/site-packages (from matplotlib<4->mlflow) (10.3.0)\nRequirement already satisfied: pyparsing<3.1,>=2.3.1 in /databricks/python3/lib/python3.11/site-packages (from matplotlib<4->mlflow) (3.0.9)\nRequirement already satisfied: pytz>=2020.1 in /databricks/python3/lib/python3.11/site-packages (from pandas!=2.3.0,<3->mlflow) (2022.7)\nCollecting annotated-types>=0.6.0 (from pydantic>2.10.0->databricks-langchain)\n  Downloading annotated_types-0.7.0-py3-none-any.whl.metadata (15 kB)\nCollecting pydantic-core==2.33.2 (from pydantic>2.10.0->databricks-langchain)\n  Downloading pydantic_core-2.33.2-cp311-cp311-manylinux_2_17_x86_64.manylinux2014_x86_64.whl.metadata (6.8 kB)\nCollecting typing-inspection>=0.4.0 (from pydantic>2.10.0->databricks-langchain)\n  Downloading typing_inspection-0.4.1-py3-none-any.whl.metadata (2.6 kB)\nRequirement already satisfied: charset-normalizer<4,>=2 in /databricks/python3/lib/python3.11/site-packages (from requests<3,>=2->langchain) (2.0.4)\nRequirement already satisfied: idna<4,>=2.5 in /databricks/python3/lib/python3.11/site-packages (from requests<3,>=2->langchain) (3.4)\nRequirement already satisfied: certifi>=2017.4.17 in /databricks/python3/lib/python3.11/site-packages (from requests<3,>=2->langchain) (2023.7.22)\nRequirement already satisfied: joblib>=1.1.1 in /databricks/python3/lib/python3.11/site-packages (from scikit-learn<2->mlflow) (1.2.0)\nRequirement already satisfied: threadpoolctl>=2.0.0 in /databricks/python3/lib/python3.11/site-packages (from scikit-learn<2->mlflow) (2.2.0)\nCollecting greenlet>=1 (from SQLAlchemy<3,>=1.4->langchain)\n  Downloading greenlet-3.2.3-cp311-cp311-manylinux_2_24_x86_64.manylinux_2_28_x86_64.whl.metadata (4.1 kB)\nCollecting langchain-community>=0.2.0 (from unitycatalog-langchain>=0.2.0->unitycatalog-langchain[databricks]>=0.2.0->databricks-langchain)\n  Downloading langchain_community-0.3.24-py3-none-any.whl.metadata (2.5 kB)\nCollecting unitycatalog-ai (from unitycatalog-langchain>=0.2.0->unitycatalog-langchain[databricks]>=0.2.0->databricks-langchain)\n  Downloading unitycatalog_ai-0.3.1-py3-none-any.whl.metadata (31 kB)\nRequirement already satisfied: google-auth~=2.0 in /databricks/python3/lib/python3.11/site-packages (from databricks-sdk<1,>=0.20.0->mlflow-skinny==2.22.1->mlflow) (2.35.0)\nCollecting starlette<0.47.0,>=0.40.0 (from fastapi<1->mlflow-skinny==2.22.1->mlflow)\n  Downloading starlette-0.46.2-py3-none-any.whl.metadata (6.2 kB)\nRequirement already satisfied: gitdb<5,>=4.0.1 in /databricks/python3/lib/python3.11/site-packages (from gitpython<4,>=3.1.9->mlflow-skinny==2.22.1->mlflow) (4.0.11)\nCollecting anyio (from httpx>=0.25.2->langgraph-sdk>=0.1.42->langgraph)\n  Downloading anyio-4.9.0-py3-none-any.whl.metadata (4.7 kB)\nCollecting httpcore==1.* (from httpx>=0.25.2->langgraph-sdk>=0.1.42->langgraph)\n  Downloading httpcore-1.0.9-py3-none-any.whl.metadata (21 kB)\nCollecting h11>=0.16 (from httpcore==1.*->httpx>=0.25.2->langgraph-sdk>=0.1.42->langgraph)\n  Downloading h11-0.16.0-py3-none-any.whl.metadata (8.3 kB)\nRequirement already satisfied: zipp>=0.5 in /databricks/python3/lib/python3.11/site-packages (from importlib_metadata!=4.7.0,<9,>=3.7.0->mlflow-skinny==2.22.1->mlflow) (3.11.0)\nCollecting jsonpointer>=1.9 (from jsonpatch<2.0,>=1.33->langchain-core>=0.1->langgraph)\n  Downloading jsonpointer-3.0.0-py2.py3-none-any.whl.metadata (2.3 kB)\nCollecting aiohttp<4.0.0,>=3.8.3 (from langchain-community>=0.2.0->unitycatalog-langchain>=0.2.0->unitycatalog-langchain[databricks]>=0.2.0->databricks-langchain)\n  Downloading aiohttp-3.12.11-cp311-cp311-manylinux_2_17_x86_64.manylinux2014_x86_64.whl.metadata (7.6 kB)\nCollecting dataclasses-json<0.7,>=0.5.7 (from langchain-community>=0.2.0->unitycatalog-langchain>=0.2.0->unitycatalog-langchain[databricks]>=0.2.0->databricks-langchain)\n  Downloading dataclasses_json-0.6.7-py3-none-any.whl.metadata (25 kB)\nCollecting pydantic-settings<3.0.0,>=2.4.0 (from langchain-community>=0.2.0->unitycatalog-langchain>=0.2.0->unitycatalog-langchain[databricks]>=0.2.0->databricks-langchain)\n  Downloading pydantic_settings-2.9.1-py3-none-any.whl.metadata (3.8 kB)\nCollecting httpx-sse<1.0.0,>=0.4.0 (from langchain-community>=0.2.0->unitycatalog-langchain>=0.2.0->unitycatalog-langchain[databricks]>=0.2.0->databricks-langchain)\n  Downloading httpx_sse-0.4.0-py3-none-any.whl.metadata (9.0 kB)\nCollecting numpy<3 (from mlflow)\n  Downloading numpy-1.26.4-cp311-cp311-manylinux_2_17_x86_64.manylinux2014_x86_64.whl.metadata (61 kB)\nCollecting opentelemetry-semantic-conventions==0.55b0 (from opentelemetry-sdk<3,>=1.9.0->mlflow-skinny==2.22.1->mlflow)\n  Downloading opentelemetry_semantic_conventions-0.55b0-py3-none-any.whl.metadata (2.5 kB)\nCollecting regex>=2022.1.18 (from tiktoken>=0.8.0->databricks-ai-bridge>=0.4.2->databricks-langchain)\n  Downloading regex-2024.11.6-cp311-cp311-manylinux_2_17_x86_64.manylinux2014_x86_64.whl.metadata (40 kB)\nRequirement already satisfied: nest-asyncio in /databricks/python3/lib/python3.11/site-packages (from unitycatalog-ai->unitycatalog-langchain>=0.2.0->unitycatalog-langchain[databricks]>=0.2.0->databricks-langchain) (1.5.6)\nCollecting unitycatalog-client (from unitycatalog-ai->unitycatalog-langchain>=0.2.0->unitycatalog-langchain[databricks]>=0.2.0->databricks-langchain)\n  Downloading unitycatalog_client-0.3.0-py3-none-any.whl.metadata (7.8 kB)\nCollecting aiohappyeyeballs>=2.5.0 (from aiohttp<4.0.0,>=3.8.3->langchain-community>=0.2.0->unitycatalog-langchain>=0.2.0->unitycatalog-langchain[databricks]>=0.2.0->databricks-langchain)\n  Downloading aiohappyeyeballs-2.6.1-py3-none-any.whl.metadata (5.9 kB)\nCollecting aiosignal>=1.1.2 (from aiohttp<4.0.0,>=3.8.3->langchain-community>=0.2.0->unitycatalog-langchain>=0.2.0->unitycatalog-langchain[databricks]>=0.2.0->databricks-langchain)\n  Downloading aiosignal-1.3.2-py2.py3-none-any.whl.metadata (3.8 kB)\nCollecting attrs>=17.3.0 (from aiohttp<4.0.0,>=3.8.3->langchain-community>=0.2.0->unitycatalog-langchain>=0.2.0->unitycatalog-langchain[databricks]>=0.2.0->databricks-langchain)\n  Downloading attrs-25.3.0-py3-none-any.whl.metadata (10 kB)\nCollecting frozenlist>=1.1.1 (from aiohttp<4.0.0,>=3.8.3->langchain-community>=0.2.0->unitycatalog-langchain>=0.2.0->unitycatalog-langchain[databricks]>=0.2.0->databricks-langchain)\n  Downloading frozenlist-1.6.2-cp311-cp311-manylinux_2_5_x86_64.manylinux1_x86_64.manylinux_2_17_x86_64.manylinux2014_x86_64.whl.metadata (17 kB)\nCollecting multidict<7.0,>=4.5 (from aiohttp<4.0.0,>=3.8.3->langchain-community>=0.2.0->unitycatalog-langchain>=0.2.0->unitycatalog-langchain[databricks]>=0.2.0->databricks-langchain)\n  Downloading multidict-6.4.4-cp311-cp311-manylinux_2_17_x86_64.manylinux2014_x86_64.whl.metadata (5.3 kB)\nCollecting propcache>=0.2.0 (from aiohttp<4.0.0,>=3.8.3->langchain-community>=0.2.0->unitycatalog-langchain>=0.2.0->unitycatalog-langchain[databricks]>=0.2.0->databricks-langchain)\n  Downloading propcache-0.3.1-cp311-cp311-manylinux_2_17_x86_64.manylinux2014_x86_64.whl.metadata (10 kB)\nCollecting yarl<2.0,>=1.17.0 (from aiohttp<4.0.0,>=3.8.3->langchain-community>=0.2.0->unitycatalog-langchain>=0.2.0->unitycatalog-langchain[databricks]>=0.2.0->databricks-langchain)\n  Downloading yarl-1.20.0-cp311-cp311-manylinux_2_17_x86_64.manylinux2014_x86_64.whl.metadata (72 kB)\nCollecting marshmallow<4.0.0,>=3.18.0 (from dataclasses-json<0.7,>=0.5.7->langchain-community>=0.2.0->unitycatalog-langchain>=0.2.0->unitycatalog-langchain[databricks]>=0.2.0->databricks-langchain)\n  Downloading marshmallow-3.26.1-py3-none-any.whl.metadata (7.3 kB)\nCollecting typing-inspect<1,>=0.4.0 (from dataclasses-json<0.7,>=0.5.7->langchain-community>=0.2.0->unitycatalog-langchain>=0.2.0->unitycatalog-langchain[databricks]>=0.2.0->databricks-langchain)\n  Downloading typing_inspect-0.9.0-py3-none-any.whl.metadata (1.5 kB)\nRequirement already satisfied: smmap<6,>=3.0.1 in /databricks/python3/lib/python3.11/site-packages (from gitdb<5,>=4.0.1->gitpython<4,>=3.1.9->mlflow-skinny==2.22.1->mlflow) (5.0.1)\nRequirement already satisfied: pyasn1-modules>=0.2.1 in /databricks/python3/lib/python3.11/site-packages (from google-auth~=2.0->databricks-sdk<1,>=0.20.0->mlflow-skinny==2.22.1->mlflow) (0.2.8)\nRequirement already satisfied: rsa<5,>=3.1.4 in /databricks/python3/lib/python3.11/site-packages (from google-auth~=2.0->databricks-sdk<1,>=0.20.0->mlflow-skinny==2.22.1->mlflow) (4.9)\nCollecting sniffio>=1.1 (from anyio->httpx>=0.25.2->langgraph-sdk>=0.1.42->langgraph)\n  Downloading sniffio-1.3.1-py3-none-any.whl.metadata (3.9 kB)\nCollecting aiohttp-retry>=2.8.3 (from unitycatalog-client->unitycatalog-ai->unitycatalog-langchain>=0.2.0->unitycatalog-langchain[databricks]>=0.2.0->databricks-langchain)\n  Downloading aiohttp_retry-2.9.1-py3-none-any.whl.metadata (8.8 kB)\nRequirement already satisfied: pyasn1<0.5.0,>=0.4.6 in /databricks/python3/lib/python3.11/site-packages (from pyasn1-modules>=0.2.1->google-auth~=2.0->databricks-sdk<1,>=0.20.0->mlflow-skinny==2.22.1->mlflow) (0.4.8)\nRequirement already satisfied: mypy-extensions>=0.3.0 in /databricks/python3/lib/python3.11/site-packages (from typing-inspect<1,>=0.4.0->dataclasses-json<0.7,>=0.5.7->langchain-community>=0.2.0->unitycatalog-langchain>=0.2.0->unitycatalog-langchain[databricks]>=0.2.0->databricks-langchain) (0.4.3)\nDownloading databricks_langchain-0.5.1-py3-none-any.whl (22 kB)\nDownloading langgraph-0.4.8-py3-none-any.whl (152 kB)\nDownloading langchain-0.3.25-py3-none-any.whl (1.0 MB)\n\u001B[?25l   \u001B[90m━━━━━━━━━━━━━━━━━━━━━━━━━━━━━━━━━━━━━━━━\u001B[0m \u001B[32m0.0/1.0 MB\u001B[0m \u001B[31m?\u001B[0m eta \u001B[36m-:--:--\u001B[0m\n\u001B[2K   \u001B[90m━━━━━━━━━━━━━━━━━━━━━━━━━━━━━━━━━━━━━━━━\u001B[0m \u001B[32m1.0/1.0 MB\u001B[0m \u001B[31m25.3 MB/s\u001B[0m eta \u001B[36m0:00:00\u001B[0m\n\u001B[?25hDownloading mlflow-2.22.1-py3-none-any.whl (29.0 MB)\n\u001B[?25l   \u001B[90m━━━━━━━━━━━━━━━━━━━━━━━━━━━━━━━━━━━━━━━━\u001B[0m \u001B[32m0.0/29.0 MB\u001B[0m \u001B[31m?\u001B[0m eta \u001B[36m-:--:--\u001B[0m\n\u001B[2K   \u001B[91m━━━━━━━━━━━━━━━━━━━━━━━━━━━━━━━━\u001B[0m\u001B[90m╺\u001B[0m\u001B[90m━━━━━━━\u001B[0m \u001B[32m23.3/29.0 MB\u001B[0m \u001B[31m124.3 MB/s\u001B[0m eta \u001B[36m0:00:01\u001B[0m\n\u001B[2K   \u001B[91m━━━━━━━━━━━━━━━━━━━━━━━━━━━━━━━━━━━━━━━\u001B[0m\u001B[91m╸\u001B[0m \u001B[32m28.8/29.0 MB\u001B[0m \u001B[31m115.2 MB/s\u001B[0m eta \u001B[36m0:00:01\u001B[0m\n\u001B[2K   \u001B[90m━━━━━━━━━━━━━━━━━━━━━━━━━━━━━━━━━━━━━━━━\u001B[0m \u001B[32m29.0/29.0 MB\u001B[0m \u001B[31m68.1 MB/s\u001B[0m eta \u001B[36m0:00:00\u001B[0m\n\u001B[?25hDownloading mlflow_skinny-2.22.1-py3-none-any.whl (6.3 MB)\n\u001B[?25l   \u001B[90m━━━━━━━━━━━━━━━━━━━━━━━━━━━━━━━━━━━━━━━━\u001B[0m \u001B[32m0.0/6.3 MB\u001B[0m \u001B[31m?\u001B[0m eta \u001B[36m-:--:--\u001B[0m\n\u001B[2K   \u001B[90m━━━━━━━━━━━━━━━━━━━━━━━━━━━━━━━━━━━━━━━━\u001B[0m \u001B[32m6.3/6.3 MB\u001B[0m \u001B[31m70.5 MB/s\u001B[0m eta \u001B[36m0:00:00\u001B[0m\n\u001B[?25hDownloading python_dotenv-1.1.0-py3-none-any.whl (20 kB)\nDownloading alembic-1.16.1-py3-none-any.whl (242 kB)\nDownloading databricks_ai_bridge-0.5.1-py3-none-any.whl (16 kB)\nDownloading databricks_connect-16.1.5-py2.py3-none-any.whl (2.4 MB)\n\u001B[?25l   \u001B[90m━━━━━━━━━━━━━━━━━━━━━━━━━━━━━━━━━━━━━━━━\u001B[0m \u001B[32m0.0/2.4 MB\u001B[0m \u001B[31m?\u001B[0m eta \u001B[36m-:--:--\u001B[0m\n\u001B[2K   \u001B[90m━━━━━━━━━━━━━━━━━━━━━━━━━━━━━━━━━━━━━━━━\u001B[0m \u001B[32m2.4/2.4 MB\u001B[0m \u001B[31m141.0 MB/s\u001B[0m eta \u001B[36m0:00:00\u001B[0m\n\u001B[?25hDownloading databricks_vectorsearch-0.56-py3-none-any.whl (15 kB)\nDownloading docker-7.1.0-py3-none-any.whl (147 kB)\nDownloading flask-3.1.1-py3-none-any.whl (103 kB)\nDownloading graphene-3.4.3-py2.py3-none-any.whl (114 kB)\nDownloading gunicorn-23.0.0-py3-none-any.whl (85 kB)\nDownloading jinja2-3.1.6-py3-none-any.whl (134 kB)\nDownloading langchain_core-0.3.64-py3-none-any.whl (438 kB)\nDownloading langchain_text_splitters-0.3.8-py3-none-any.whl (32 kB)\nDownloading langgraph_checkpoint-2.0.26-py3-none-any.whl (44 kB)\nDownloading langgraph_prebuilt-0.2.2-py3-none-any.whl (23 kB)\nDownloading langgraph_sdk-0.1.70-py3-none-any.whl (49 kB)\nDownloading langsmith-0.3.45-py3-none-any.whl (363 kB)\nDownloading markdown-3.8-py3-none-any.whl (106 kB)\nDownloading pydantic-2.11.5-py3-none-any.whl (444 kB)\nDownloading pydantic_core-2.33.2-cp311-cp311-manylinux_2_17_x86_64.manylinux2014_x86_64.whl (2.0 MB)\n\u001B[?25l   \u001B[90m━━━━━━━━━━━━━━━━━━━━━━━━━━━━━━━━━━━━━━━━\u001B[0m \u001B[32m0.0/2.0 MB\u001B[0m \u001B[31m?\u001B[0m eta \u001B[36m-:--:--\u001B[0m\n\u001B[2K   \u001B[90m━━━━━━━━━━━━━━━━━━━━━━━━━━━━━━━━━━━━━━━━\u001B[0m \u001B[32m2.0/2.0 MB\u001B[0m \u001B[31m79.3 MB/s\u001B[0m eta \u001B[36m0:00:00\u001B[0m\n\u001B[?25hDownloading sqlalchemy-2.0.41-cp311-cp311-manylinux_2_17_x86_64.manylinux2014_x86_64.whl (3.3 MB)\n\u001B[?25l   \u001B[90m━━━━━━━━━━━━━━━━━━━━━━━━━━━━━━━━━━━━━━━━\u001B[0m \u001B[32m0.0/3.3 MB\u001B[0m \u001B[31m?\u001B[0m eta \u001B[36m-:--:--\u001B[0m\n\u001B[2K   \u001B[90m━━━━━━━━━━━━━━━━━━━━━━━━━━━━━━━━━━━━━━━━\u001B[0m \u001B[32m3.3/3.3 MB\u001B[0m \u001B[31m79.9 MB/s\u001B[0m eta \u001B[36m0:00:00\u001B[0m\n\u001B[?25hDownloading unitycatalog_langchain-0.2.0-py3-none-any.whl (5.4 kB)\nDownloading xxhash-3.5.0-cp311-cp311-manylinux_2_17_x86_64.manylinux2014_x86_64.whl (194 kB)\nDownloading annotated_types-0.7.0-py3-none-any.whl (13 kB)\nDownloading blinker-1.9.0-py3-none-any.whl (8.5 kB)\nDownloading click-8.2.1-py3-none-any.whl (102 kB)\nDownloading databricks_sdk-0.56.0-py3-none-any.whl (733 kB)\n\u001B[?25l   \u001B[90m━━━━━━━━━━━━━━━━━━━━━━━━━━━━━━━━━━━━━━━━\u001B[0m \u001B[32m0.0/733.7 kB\u001B[0m \u001B[31m?\u001B[0m eta \u001B[36m-:--:--\u001B[0m\n\u001B[2K   \u001B[90m━━━━━━━━━━━━━━━━━━━━━━━━━━━━━━━━━━━━━━━━\u001B[0m \u001B[32m733.7/733.7 kB\u001B[0m \u001B[31m57.7 MB/s\u001B[0m eta \u001B[36m0:00:00\u001B[0m\n\u001B[?25hDownloading deprecation-2.1.0-py2.py3-none-any.whl (11 kB)\nDownloading fastapi-0.115.12-py3-none-any.whl (95 kB)\nDownloading graphql_core-3.2.6-py3-none-any.whl (203 kB)\nDownloading graphql_relay-3.2.0-py3-none-any.whl (16 kB)\nDownloading greenlet-3.2.3-cp311-cp311-manylinux_2_24_x86_64.manylinux_2_28_x86_64.whl (585 kB)\n\u001B[?25l   \u001B[90m━━━━━━━━━━━━━━━━━━━━━━━━━━━━━━━━━━━━━━━━\u001B[0m \u001B[32m0.0/585.5 kB\u001B[0m \u001B[31m?\u001B[0m eta \u001B[36m-:--:--\u001B[0m\n\u001B[2K   \u001B[90m━━━━━━━━━━━━━━━━━━━━━━━━━━━━━━━━━━━━━━━━\u001B[0m \u001B[32m585.5/585.5 kB\u001B[0m \u001B[31m20.2 MB/s\u001B[0m eta \u001B[36m0:00:00\u001B[0m\n\u001B[?25hDownloading httpx-0.28.1-py3-none-any.whl (73 kB)\nDownloading httpcore-1.0.9-py3-none-any.whl (78 kB)\nDownloading itsdangerous-2.2.0-py3-none-any.whl (16 kB)\nDownloading jsonpatch-1.33-py2.py3-none-any.whl (12 kB)\nDownloading langchain_community-0.3.24-py3-none-any.whl (2.5 MB)\n\u001B[?25l   \u001B[90m━━━━━━━━━━━━━━━━━━━━━━━━━━━━━━━━━━━━━━━━\u001B[0m \u001B[32m0.0/2.5 MB\u001B[0m \u001B[31m?\u001B[0m eta \u001B[36m-:--:--\u001B[0m\n\u001B[2K   \u001B[90m━━━━━━━━━━━━━━━━━━━━━━━━━━━━━━━━━━━━━━━━\u001B[0m \u001B[32m2.5/2.5 MB\u001B[0m \u001B[31m125.0 MB/s\u001B[0m eta \u001B[36m0:00:00\u001B[0m\n\u001B[?25hDownloading numpy-1.26.4-cp311-cp311-manylinux_2_17_x86_64.manylinux2014_x86_64.whl (18.3 MB)\n\u001B[?25l   \u001B[90m━━━━━━━━━━━━━━━━━━━━━━━━━━━━━━━━━━━━━━━━\u001B[0m \u001B[32m0.0/18.3 MB\u001B[0m \u001B[31m?\u001B[0m eta \u001B[36m-:--:--\u001B[0m\n\u001B[2K   \u001B[90m━━━━━━━━━━━━━━━━━━━━━━━━━━━━━━━━━━━━━━━━\u001B[0m \u001B[32m18.3/18.3 MB\u001B[0m \u001B[31m164.0 MB/s\u001B[0m eta \u001B[36m0:00:00\u001B[0m\n\u001B[?25hDownloading MarkupSafe-3.0.2-cp311-cp311-manylinux_2_17_x86_64.manylinux2014_x86_64.whl (23 kB)\nDownloading opentelemetry_api-1.34.0-py3-none-any.whl (65 kB)\nDownloading opentelemetry_sdk-1.34.0-py3-none-any.whl (118 kB)\nDownloading opentelemetry_semantic_conventions-0.55b0-py3-none-any.whl (196 kB)\nDownloading orjson-3.10.18-cp311-cp311-manylinux_2_17_x86_64.manylinux2014_x86_64.whl (132 kB)\nDownloading ormsgpack-1.10.0-cp311-cp311-manylinux_2_17_x86_64.manylinux2014_x86_64.whl (216 kB)\nDownloading requests_toolbelt-1.0.0-py2.py3-none-any.whl (54 kB)\nDownloading tabulate-0.9.0-py3-none-any.whl (35 kB)\nDownloading tiktoken-0.9.0-cp311-cp311-manylinux_2_17_x86_64.manylinux2014_x86_64.whl (1.2 MB)\n\u001B[?25l   \u001B[90m━━━━━━━━━━━━━━━━━━━━━━━━━━━━━━━━━━━━━━━━\u001B[0m \u001B[32m0.0/1.2 MB\u001B[0m \u001B[31m?\u001B[0m eta \u001B[36m-:--:--\u001B[0m\n\u001B[2K   \u001B[90m━━━━━━━━━━━━━━━━━━━━━━━━━━━━━━━━━━━━━━━━\u001B[0m \u001B[32m1.2/1.2 MB\u001B[0m \u001B[31m118.5 MB/s\u001B[0m eta \u001B[36m0:00:00\u001B[0m\n\u001B[?25hDownloading typing_extensions-4.14.0-py3-none-any.whl (43 kB)\nDownloading typing_inspection-0.4.1-py3-none-any.whl (14 kB)\nDownloading uvicorn-0.34.3-py3-none-any.whl (62 kB)\nDownloading werkzeug-3.1.3-py3-none-any.whl (224 kB)\nDownloading mako-1.3.10-py3-none-any.whl (78 kB)\nDownloading unitycatalog_ai-0.3.1-py3-none-any.whl (66 kB)\nDownloading aiohttp-3.12.11-cp311-cp311-manylinux_2_17_x86_64.manylinux2014_x86_64.whl (1.7 MB)\n\u001B[?25l   \u001B[90m━━━━━━━━━━━━━━━━━━━━━━━━━━━━━━━━━━━━━━━━\u001B[0m \u001B[32m0.0/1.7 MB\u001B[0m \u001B[31m?\u001B[0m eta \u001B[36m-:--:--\u001B[0m\n\u001B[2K   \u001B[90m━━━━━━━━━━━━━━━━━━━━━━━━━━━━━━━━━━━━━━━━\u001B[0m \u001B[32m1.7/1.7 MB\u001B[0m \u001B[31m101.3 MB/s\u001B[0m eta \u001B[36m0:00:00\u001B[0m\n\u001B[?25hDownloading dataclasses_json-0.6.7-py3-none-any.whl (28 kB)\nDownloading h11-0.16.0-py3-none-any.whl (37 kB)\nDownloading httpx_sse-0.4.0-py3-none-any.whl (7.8 kB)\nDownloading jsonpointer-3.0.0-py2.py3-none-any.whl (7.6 kB)\nDownloading pydantic_settings-2.9.1-py3-none-any.whl (44 kB)\nDownloading regex-2024.11.6-cp311-cp311-manylinux_2_17_x86_64.manylinux2014_x86_64.whl (792 kB)\n\u001B[?25l   \u001B[90m━━━━━━━━━━━━━━━━━━━━━━━━━━━━━━━━━━━━━━━━\u001B[0m \u001B[32m0.0/792.7 kB\u001B[0m \u001B[31m?\u001B[0m eta \u001B[36m-:--:--\u001B[0m\n\u001B[2K   \u001B[90m━━━━━━━━━━━━━━━━━━━━━━━━━━━━━━━━━━━━━━━━\u001B[0m \u001B[32m792.7/792.7 kB\u001B[0m \u001B[31m21.2 MB/s\u001B[0m eta \u001B[36m0:00:00\u001B[0m\n\u001B[?25hDownloading starlette-0.46.2-py3-none-any.whl (72 kB)\nDownloading anyio-4.9.0-py3-none-any.whl (100 kB)\nDownloading unitycatalog_client-0.3.0-py3-none-any.whl (159 kB)\nDownloading aiohappyeyeballs-2.6.1-py3-none-any.whl (15 kB)\nDownloading aiohttp_retry-2.9.1-py3-none-any.whl (10.0 kB)\nDownloading aiosignal-1.3.2-py2.py3-none-any.whl (7.6 kB)\nDownloading attrs-25.3.0-py3-none-any.whl (63 kB)\nDownloading frozenlist-1.6.2-cp311-cp311-manylinux_2_5_x86_64.manylinux1_x86_64.manylinux_2_17_x86_64.manylinux2014_x86_64.whl (236 kB)\nDownloading marshmallow-3.26.1-py3-none-any.whl (50 kB)\nDownloading multidict-6.4.4-cp311-cp311-manylinux_2_17_x86_64.manylinux2014_x86_64.whl (223 kB)\nDownloading propcache-0.3.1-cp311-cp311-manylinux_2_17_x86_64.manylinux2014_x86_64.whl (232 kB)\nDownloading sniffio-1.3.1-py3-none-any.whl (10 kB)\nDownloading typing_inspect-0.9.0-py3-none-any.whl (8.8 kB)\nDownloading yarl-1.20.0-cp311-cp311-manylinux_2_17_x86_64.manylinux2014_x86_64.whl (358 kB)\nInstalling collected packages: xxhash, typing-extensions, tabulate, sniffio, regex, python-dotenv, propcache, ormsgpack, orjson, numpy, multidict, marshmallow, markupsafe, markdown, jsonpointer, itsdangerous, httpx-sse, h11, gunicorn, greenlet, graphql-core, frozenlist, deprecation, click, blinker, attrs, annotated-types, aiohappyeyeballs, yarl, werkzeug, uvicorn, typing-inspection, typing-inspect, tiktoken, SQLAlchemy, requests-toolbelt, pydantic-core, opentelemetry-api, Mako, jsonpatch, Jinja2, httpcore, graphql-relay, docker, anyio, aiosignal, starlette, pydantic, opentelemetry-semantic-conventions, httpx, graphene, Flask, dataclasses-json, databricks-sdk, alembic, aiohttp, pydantic-settings, opentelemetry-sdk, langsmith, langgraph-sdk, fastapi, databricks-connect, aiohttp-retry, unitycatalog-client, mlflow-skinny, langchain-core, unitycatalog-ai, mlflow, langgraph-checkpoint, langchain-text-splitters, databricks-vectorsearch, databricks-ai-bridge, langgraph-prebuilt, langchain, langgraph, langchain-community, unitycatalog-langchain, databricks-langchain\n  Attempting uninstall: typing-extensions\n    Found existing installation: typing_extensions 4.10.0\n    Not uninstalling typing-extensions at /databricks/python3/lib/python3.11/site-packages, outside environment /local_disk0/.ephemeral_nfs/envs/pythonEnv-e7ea95ae-4fcd-461a-8ba7-2eb24533d1d1\n    Can't uninstall 'typing_extensions'. No files were found to uninstall.\n  Attempting uninstall: numpy\n    Found existing installation: numpy 1.23.5\n    Not uninstalling numpy at /databricks/python3/lib/python3.11/site-packages, outside environment /local_disk0/.ephemeral_nfs/envs/pythonEnv-e7ea95ae-4fcd-461a-8ba7-2eb24533d1d1\n    Can't uninstall 'numpy'. No files were found to uninstall.\n  Attempting uninstall: click\n    Found existing installation: click 8.0.4\n    Not uninstalling click at /databricks/python3/lib/python3.11/site-packages, outside environment /local_disk0/.ephemeral_nfs/envs/pythonEnv-e7ea95ae-4fcd-461a-8ba7-2eb24533d1d1\n    Can't uninstall 'click'. No files were found to uninstall.\n  Attempting uninstall: blinker\n    Found existing installation: blinker 1.4\n    Not uninstalling blinker at /usr/lib/python3/dist-packages, outside environment /local_disk0/.ephemeral_nfs/envs/pythonEnv-e7ea95ae-4fcd-461a-8ba7-2eb24533d1d1\n    Can't uninstall 'blinker'. No files were found to uninstall.\n  Attempting uninstall: pydantic\n    Found existing installation: pydantic 1.10.6\n    Not uninstalling pydantic at /databricks/python3/lib/python3.11/site-packages, outside environment /local_disk0/.ephemeral_nfs/envs/pythonEnv-e7ea95ae-4fcd-461a-8ba7-2eb24533d1d1\n    Can't uninstall 'pydantic'. No files were found to uninstall.\n  Attempting uninstall: databricks-sdk\n    Found existing installation: databricks-sdk 0.40.0\n    Not uninstalling databricks-sdk at /databricks/python3/lib/python3.11/site-packages, outside environment /local_disk0/.ephemeral_nfs/envs/pythonEnv-e7ea95ae-4fcd-461a-8ba7-2eb24533d1d1\n    Can't uninstall 'databricks-sdk'. No files were found to uninstall.\n  Attempting uninstall: databricks-connect\n    Found existing installation: databricks-connect 15.4.5\n    Not uninstalling databricks-connect at /databricks/python3/lib/python3.11/site-packages, outside environment /local_disk0/.ephemeral_nfs/envs/pythonEnv-e7ea95ae-4fcd-461a-8ba7-2eb24533d1d1\n    Can't uninstall 'databricks-connect'. No files were found to uninstall.\n  Attempting uninstall: mlflow-skinny\n    Found existing installation: mlflow-skinny 2.11.4\n    Not uninstalling mlflow-skinny at /databricks/python3/lib/python3.11/site-packages, outside environment /local_disk0/.ephemeral_nfs/envs/pythonEnv-e7ea95ae-4fcd-461a-8ba7-2eb24533d1d1\n    Can't uninstall 'mlflow-skinny'. No files were found to uninstall.\nSuccessfully installed Flask-3.1.1 Jinja2-3.1.6 Mako-1.3.10 SQLAlchemy-2.0.41 aiohappyeyeballs-2.6.1 aiohttp-3.12.11 aiohttp-retry-2.9.1 aiosignal-1.3.2 alembic-1.16.1 annotated-types-0.7.0 anyio-4.9.0 attrs-25.3.0 blinker-1.9.0 click-8.2.1 databricks-ai-bridge-0.5.1 databricks-connect-16.1.5 databricks-langchain-0.5.1 databricks-sdk-0.56.0 databricks-vectorsearch-0.56 dataclasses-json-0.6.7 deprecation-2.1.0 docker-7.1.0 fastapi-0.115.12 frozenlist-1.6.2 graphene-3.4.3 graphql-core-3.2.6 graphql-relay-3.2.0 greenlet-3.2.3 gunicorn-23.0.0 h11-0.16.0 httpcore-1.0.9 httpx-0.28.1 httpx-sse-0.4.0 itsdangerous-2.2.0 jsonpatch-1.33 jsonpointer-3.0.0 langchain-0.3.25 langchain-community-0.3.24 langchain-core-0.3.64 langchain-text-splitters-0.3.8 langgraph-0.4.8 langgraph-checkpoint-2.0.26 langgraph-prebuilt-0.2.2 langgraph-sdk-0.1.70 langsmith-0.3.45 markdown-3.8 markupsafe-3.0.2 marshmallow-3.26.1 mlflow-2.22.1 mlflow-skinny-2.22.1 multidict-6.4.4 numpy-1.26.4 opentelemetry-api-1.34.0 opentelemetry-sdk-1.34.0 opentelemetry-semantic-conventions-0.55b0 orjson-3.10.18 ormsgpack-1.10.0 propcache-0.3.1 pydantic-2.11.5 pydantic-core-2.33.2 pydantic-settings-2.9.1 python-dotenv-1.1.0 regex-2024.11.6 requests-toolbelt-1.0.0 sniffio-1.3.1 starlette-0.46.2 tabulate-0.9.0 tiktoken-0.9.0 typing-extensions-4.14.0 typing-inspect-0.9.0 typing-inspection-0.4.1 unitycatalog-ai-0.3.1 unitycatalog-client-0.3.0 unitycatalog-langchain-0.2.0 uvicorn-0.34.3 werkzeug-3.1.3 xxhash-3.5.0 yarl-1.20.0\n\u001B[43mNote: you may need to restart the kernel using %restart_python or dbutils.library.restartPython() to use updated packages.\u001B[0m\n"
     ]
    }
   ],
   "source": [
    "%pip install databricks-langchain langgraph langchain mlflow python-dotenv\n",
    "%restart_python"
   ]
  },
  {
   "cell_type": "code",
   "execution_count": 0,
   "metadata": {
    "application/vnd.databricks.v1+cell": {
     "cellMetadata": {
      "byteLimit": 2048000,
      "rowLimit": 10000
     },
     "inputWidgets": {},
     "nuid": "e6135418-0b2b-4cac-9c6f-32ac2f75c54d",
     "showTitle": false,
     "tableResultSettingsMap": {},
     "title": ""
    }
   },
   "outputs": [],
   "source": [
    "query = \"\"\"\n",
    "SELECT\n",
    "  `data_id`,\n",
    "  `date`,\n",
    " `accessibility_info`.`description`,\n",
    " `accessibility_info`.`is_available` AS `is_accessible`,\n",
    "  SPLIT(`address`, ',')[0] AS `street_address`,\n",
    "  get(SPLIT(`address`, ','), 1) AS `city`,\n",
    "  get(SPLIT(SPLIT(`address`, ',')[2], ' '), 1) AS `state`,\n",
    "  get(SPLIT(SPLIT(`address`, ',')[2], ' '), 2) AS `zip_code`\n",
    "FROM\n",
    "  (\n",
    "    SELECT\n",
    "      *, EXPLODE(`accessibility`) AS `accessibility_info`\n",
    "    FROM\n",
    "      `dais-hackathon`.`nimble`.`dbx_google_maps_place_daily`\n",
    "    WHERE\n",
    "      `country` = 'US'\n",
    "  ) AS `filtered_data`\n",
    "  \"\"\""
   ]
  },
  {
   "cell_type": "code",
   "execution_count": 0,
   "metadata": {
    "application/vnd.databricks.v1+cell": {
     "cellMetadata": {
      "byteLimit": 2048000,
      "rowLimit": 10000
     },
     "inputWidgets": {},
     "nuid": "58514e79-9d17-4103-acb4-cc8d49b76e4a",
     "showTitle": false,
     "tableResultSettingsMap": {},
     "title": ""
    }
   },
   "outputs": [],
   "source": [
    "df = spark.sql(query).toPandas()"
   ]
  },
  {
   "cell_type": "markdown",
   "metadata": {
    "application/vnd.databricks.v1+cell": {
     "cellMetadata": {},
     "inputWidgets": {},
     "nuid": "a4c6744f-e7db-464f-b014-15247fc967db",
     "showTitle": false,
     "tableResultSettingsMap": {},
     "title": ""
    }
   },
   "source": [
    "# Best family friendly locations"
   ]
  },
  {
   "cell_type": "code",
   "execution_count": 0,
   "metadata": {
    "application/vnd.databricks.v1+cell": {
     "cellMetadata": {
      "byteLimit": 2048000,
      "rowLimit": 10000
     },
     "inputWidgets": {},
     "nuid": "7ce0e116-80eb-4a2b-901d-f028998e6cd1",
     "showTitle": false,
     "tableResultSettingsMap": {},
     "title": ""
    }
   },
   "outputs": [
    {
     "output_type": "stream",
     "name": "stderr",
     "output_type": "stream",
     "text": [
      "/home/spark-e7ea95ae-4fcd-461a-8ba7-2e/.ipykernel/17917/command-8879970974882473-3223657831:34: LangChainDeprecationWarning: The class `ChatDatabricks` was deprecated in LangChain 0.3.3 and will be removed in 1.0. An updated version of the class exists in the :class:`~databricks-langchain package and should be used instead. To use it run `pip install -U :class:`~databricks-langchain` and import as `from :class:`~databricks_langchain import ChatDatabricks``.\n  llm = ChatDatabricks(endpoint=\"databricks-llama-4-maverick\", max_tokens=4048)\n"
     ]
    },
    {
     "output_type": "stream",
     "name": "stdout",
     "output_type": "stream",
     "text": [
      "{\n    \"recommendations\": [\n        {\n            \"date\": \"2025-02-02T00:00:00.000Z\",\n            \"description\": \"Has wheelchair accessible seating\",\n            \"is_accessible\": \"true\",\n            \"street_address\": \"1431 Plymouth St\",\n            \"city\": \" Mountain View\",\n            \"state\": \"CA\",\n            \"zip_code\": 94043\n        },\n        {\n            \"date\": \"2025-02-02T00:00:00.000Z\",\n            \"description\": \"Has wheelchair accessible restroom\",\n            \"is_accessible\": \"true\",\n            \"street_address\": \"1431 Plymouth St\",\n            \"city\": \" Mountain View\",\n            \"state\": \"CA\",\n            \"zip_code\": 94043\n        },\n        {\n            \"date\": \"2025-02-02T00:00:00.000Z\",\n            \"description\": \"Has wheelchair accessible parking lot\",\n            \"is_accessible\": \"true\",\n            \"street_address\": \"1431 Plymouth St\",\n            \"city\": \" Mountain View\",\n            \"state\": \"CA\",\n            \"zip_code\": 94043\n        },\n        {\n            \"date\": \"2025-02-02T00:00:00.000Z\",\n            \"description\": \"Has wheelchair accessible entrance\",\n            \"is_accessible\": \"true\",\n            \"street_address\": \"1431 Plymouth St\",\n            \"city\": \" Mountain View\",\n            \"state\": \"CA\",\n            \"zip_code\": 94043\n        },\n        {\n            \"date\": \"2025-02-03T00:00:00.000Z\",\n            \"description\": \"Has wheelchair accessible seating\",\n            \"is_accessible\": \"true\",\n            \"street_address\": \"1431 Plymouth St\",\n            \"city\": \" Mountain View\",\n            \"state\": \"CA\",\n            \"zip_code\": 94043\n        },\n        {\n            \"date\": \"2025-02-03T00:00:00.000Z\",\n            \"description\": \"Has wheelchair accessible restroom\",\n            \"is_accessible\": \"true\",\n            \"street_address\": \"1431 Plymouth St\",\n            \"city\": \" Mountain View\",\n            \"state\": \"CA\",\n            \"zip_code\": 94043\n        },\n        {\n            \"date\": \"2025-02-03T00:00:00.000Z\",\n            \"description\": \"Has wheelchair accessible parking lot\",\n            \"is_accessible\": \"true\",\n            \"street_address\": \"1431 Plymouth St\",\n            \"city\": \" Mountain View\",\n            \"state\": \"CA\",\n            \"zip_code\": 94043\n        },\n        {\n            \"date\": \"2025-02-03T00:00:00.000Z\",\n            \"description\": \"Has wheelchair accessible entrance\",\n            \"is_accessible\": \"true\",\n            \"street_address\": \"1431 Plymouth St\",\n            \"city\": \" Mountain View\",\n            \"state\": \"CA\",\n            \"zip_code\": 94043\n        },\n        {\n            \"date\": \"2025-02-04T00:00:00.000Z\",\n            \"description\": \"Has wheelchair-accessible toilet\",\n            \"is_accessible\": \"true\",\n            \"street_address\": \"1431 Plymouth St\",\n            \"city\": \" Mountain View\",\n            \"state\": \"CA\",\n            \"zip_code\": 94043\n        },\n        {\n            \"date\": \"2025-02-04T00:00:00.000Z\",\n            \"description\": \"Has wheelchair-accessible seating\",\n            \"is_accessible\": \"true\",\n            \"street_address\": \"1431 Plymouth St\",\n            \"city\": \" Mountain View\",\n            \"state\": \"CA\",\n            \"zip_code\": 94043\n        },\n        {\n            \"date\": \"2025-02-04T00:00:00.000Z\",\n            \"description\": \"Has wheelchair-accessible entrance\",\n            \"is_accessible\": \"true\",\n            \"street_address\": \"1431 Plymouth St\",\n            \"city\": \" Mountain View\",\n            \"state\": \"CA\",\n            \"zip_code\": 94043\n        },\n        {\n            \"date\": \"2025-02-04T00:00:00.000Z\",\n            \"description\": \"Has wheelchair-accessible car park\",\n            \"is_accessible\": \"true\",\n            \"street_address\": \"1431 Plymouth St\",\n            \"city\": \" Mountain View\",\n            \"state\": \"CA\",\n            \"zip_code\": 94043\n        }\n    ]\n}\n"
     ]
    },
    {
     "output_type": "stream",
     "name": "stderr",
     "output_type": "stream",
     "text": [
      "/home/spark-e7ea95ae-4fcd-461a-8ba7-2e/.ipykernel/17917/command-8879970974882473-3223657831:53: PydanticDeprecatedSince20: The `json` method is deprecated; use `model_dump_json` instead. Deprecated in Pydantic V2.0 to be removed in V3.0. See Pydantic V2 Migration Guide at https://errors.pydantic.dev/2.11/migration/\n  output = json.loads(response.json())\n"
     ]
    },
    {
     "output_type": "display_data",
     "data": {
      "application/databricks.mlflow.trace": "\"tr-5f3b56782640458cad00aff7348f7ed0\"",
      "text/plain": [
       "Trace(request_id=tr-5f3b56782640458cad00aff7348f7ed0)"
      ]
     },
     "metadata": {},
     "output_type": "display_data"
    }
   ],
   "source": [
    "%python\n",
    "import pandas as pd\n",
    "from langchain.chat_models import ChatDatabricks\n",
    "from langchain.prompts import ChatPromptTemplate\n",
    "from langchain_core.output_parsers import PydanticOutputParser\n",
    "from pydantic import BaseModel, Field\n",
    "import json\n",
    "import os\n",
    "import mlflow\n",
    "from databricks.sdk import WorkspaceClient\n",
    "\n",
    "from dotenv import load_dotenv\n",
    "\n",
    "mlflow.langchain.autolog()\n",
    "\n",
    "load_dotenv()\n",
    "\n",
    "w = WorkspaceClient()\n",
    "\n",
    "os.environ[\"DATABRICKS_HOST\"] = w.config.host\n",
    "os.environ[\"DATABRICKS_TOKEN\"] = w.tokens.create(comment=\"for model serving\", lifetime_seconds=1200).token_value\n",
    "\n",
    "class Place(BaseModel):\n",
    "    date: str\n",
    "    description: str\n",
    "    is_accessible: str\n",
    "    street_address: str\n",
    "    city: str\n",
    "    state: str\n",
    "    zip_code: int\n",
    "\n",
    "class RecList(BaseModel):\n",
    "    recommendations: list[Place] = Field(..., description='List of recommended places')\n",
    "\n",
    "llm = ChatDatabricks(endpoint=\"databricks-llama-4-maverick\", max_tokens=4048)\n",
    "\n",
    "parser = PydanticOutputParser(pydantic_object=RecList)\n",
    "\n",
    "prompt = ChatPromptTemplate.from_messages([\n",
    "    (\"system\", \"Return which locations are family friendly. The description column tells us if the location is family friendly or not. Return JSON only:\\n{format_instructions}\"),\n",
    "    (\"human\", \"Data:\\n{data}\")\n",
    "])\n",
    "\n",
    "chain = prompt | llm | parser\n",
    "\n",
    "json_fragment = df.head(100).to_json(orient=\"records\")\n",
    "response = chain.invoke({\n",
    "    \"data\": json_fragment,\n",
    "    \"format_instructions\": parser.get_format_instructions()\n",
    "})\n",
    "\n",
    "# Ensure the output is valid JSON\n",
    "try:\n",
    "    output = json.loads(response.json())\n",
    "    print(json.dumps(output, indent=4))\n",
    "except json.JSONDecodeError as e:\n",
    "    print(f\"Invalid JSON output: {e}\")"
   ]
  },
  {
   "cell_type": "code",
   "execution_count": 0,
   "metadata": {
    "application/vnd.databricks.v1+cell": {
     "cellMetadata": {
      "byteLimit": 2048000,
      "rowLimit": 10000
     },
     "inputWidgets": {},
     "nuid": "0b212aa0-c087-4454-83a4-8e72f8a3e999",
     "showTitle": false,
     "tableResultSettingsMap": {},
     "title": ""
    }
   },
   "outputs": [
    {
     "output_type": "execute_result",
     "data": {
      "text/plain": [
       "{'recommendations': [{'date': '2025-02-02T00:00:00.000Z',\n",
       "   'description': 'Has wheelchair accessible seating',\n",
       "   'is_accessible': 'true',\n",
       "   'street_address': '1431 Plymouth St',\n",
       "   'city': ' Mountain View',\n",
       "   'state': 'CA',\n",
       "   'zip_code': 94043},\n",
       "  {'date': '2025-02-02T00:00:00.000Z',\n",
       "   'description': 'Has wheelchair accessible restroom',\n",
       "   'is_accessible': 'true',\n",
       "   'street_address': '1431 Plymouth St',\n",
       "   'city': ' Mountain View',\n",
       "   'state': 'CA',\n",
       "   'zip_code': 94043},\n",
       "  {'date': '2025-02-02T00:00:00.000Z',\n",
       "   'description': 'Has wheelchair accessible parking lot',\n",
       "   'is_accessible': 'true',\n",
       "   'street_address': '1431 Plymouth St',\n",
       "   'city': ' Mountain View',\n",
       "   'state': 'CA',\n",
       "   'zip_code': 94043},\n",
       "  {'date': '2025-02-02T00:00:00.000Z',\n",
       "   'description': 'Has wheelchair accessible entrance',\n",
       "   'is_accessible': 'true',\n",
       "   'street_address': '1431 Plymouth St',\n",
       "   'city': ' Mountain View',\n",
       "   'state': 'CA',\n",
       "   'zip_code': 94043},\n",
       "  {'date': '2025-02-03T00:00:00.000Z',\n",
       "   'description': 'Has wheelchair accessible seating',\n",
       "   'is_accessible': 'true',\n",
       "   'street_address': '1431 Plymouth St',\n",
       "   'city': ' Mountain View',\n",
       "   'state': 'CA',\n",
       "   'zip_code': 94043},\n",
       "  {'date': '2025-02-03T00:00:00.000Z',\n",
       "   'description': 'Has wheelchair accessible restroom',\n",
       "   'is_accessible': 'true',\n",
       "   'street_address': '1431 Plymouth St',\n",
       "   'city': ' Mountain View',\n",
       "   'state': 'CA',\n",
       "   'zip_code': 94043},\n",
       "  {'date': '2025-02-03T00:00:00.000Z',\n",
       "   'description': 'Has wheelchair accessible parking lot',\n",
       "   'is_accessible': 'true',\n",
       "   'street_address': '1431 Plymouth St',\n",
       "   'city': ' Mountain View',\n",
       "   'state': 'CA',\n",
       "   'zip_code': 94043},\n",
       "  {'date': '2025-02-03T00:00:00.000Z',\n",
       "   'description': 'Has wheelchair accessible entrance',\n",
       "   'is_accessible': 'true',\n",
       "   'street_address': '1431 Plymouth St',\n",
       "   'city': ' Mountain View',\n",
       "   'state': 'CA',\n",
       "   'zip_code': 94043},\n",
       "  {'date': '2025-02-04T00:00:00.000Z',\n",
       "   'description': 'Has wheelchair-accessible toilet',\n",
       "   'is_accessible': 'true',\n",
       "   'street_address': '1431 Plymouth St',\n",
       "   'city': ' Mountain View',\n",
       "   'state': 'CA',\n",
       "   'zip_code': 94043},\n",
       "  {'date': '2025-02-04T00:00:00.000Z',\n",
       "   'description': 'Has wheelchair-accessible seating',\n",
       "   'is_accessible': 'true',\n",
       "   'street_address': '1431 Plymouth St',\n",
       "   'city': ' Mountain View',\n",
       "   'state': 'CA',\n",
       "   'zip_code': 94043},\n",
       "  {'date': '2025-02-04T00:00:00.000Z',\n",
       "   'description': 'Has wheelchair-accessible entrance',\n",
       "   'is_accessible': 'true',\n",
       "   'street_address': '1431 Plymouth St',\n",
       "   'city': ' Mountain View',\n",
       "   'state': 'CA',\n",
       "   'zip_code': 94043},\n",
       "  {'date': '2025-02-04T00:00:00.000Z',\n",
       "   'description': 'Has wheelchair-accessible car park',\n",
       "   'is_accessible': 'true',\n",
       "   'street_address': '1431 Plymouth St',\n",
       "   'city': ' Mountain View',\n",
       "   'state': 'CA',\n",
       "   'zip_code': 94043}]}"
      ]
     },
     "execution_count": 6,
     "metadata": {},
     "output_type": "execute_result"
    }
   ],
   "source": [
    "output"
   ]
  },
  {
   "cell_type": "code",
   "execution_count": 0,
   "metadata": {
    "application/vnd.databricks.v1+cell": {
     "cellMetadata": {},
     "inputWidgets": {},
     "nuid": "0c6d94f7-f3ba-4512-b2a5-6a73878d803d",
     "showTitle": false,
     "tableResultSettingsMap": {},
     "title": ""
    }
   },
   "outputs": [],
   "source": []
  }
 ],
 "metadata": {
  "application/vnd.databricks.v1+notebook": {
   "computePreferences": null,
   "dashboards": [],
   "environmentMetadata": {
    "base_environment": "",
    "environment_version": "2"
   },
   "inputWidgetPreferences": null,
   "language": "python",
   "notebookMetadata": {
    "pythonIndentUnit": 4
   },
   "notebookName": "accessible_locations",
   "widgets": {}
  },
  "language_info": {
   "name": "python"
  }
 },
 "nbformat": 4,
 "nbformat_minor": 0
}